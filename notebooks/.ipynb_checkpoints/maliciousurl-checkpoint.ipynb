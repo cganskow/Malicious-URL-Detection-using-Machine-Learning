{
 "cells": [
  {
   "cell_type": "markdown",
   "metadata": {},
   "source": [
    "# Import Dependencies"
   ]
  },
  {
   "cell_type": "code",
   "execution_count": 1,
   "metadata": {
    "collapsed": false
   },
   "outputs": [],
   "source": [
    "\n",
    "import pandas as pd\n",
    "import numpy as np\n",
    "from sklearn.feature_extraction.text import TfidfVectorizer\n",
    "import joblib\n",
    "import re\n",
    "import random\n",
    "from sklearn.metrics import accuracy_score"
   ]
  },
  {
   "cell_type": "code",
   "execution_count": 2,
   "metadata": {
    "collapsed": false
   },
   "outputs": [],
   "source": [
    "\n",
    "from sklearn.linear_model import LogisticRegression\n",
    "from sklearn.model_selection import train_test_split"
   ]
  },
  {
   "cell_type": "code",
   "execution_count": 3,
   "metadata": {
    "collapsed": true
   },
   "outputs": [],
   "source": [
    "#this function is taken from https://github.com/faizann24/Using-machine-learning-to-detect-malicious-URLs\n",
    "def getTokens(input):\n",
    "    tokensBySlash = str(input.encode('utf-8')).split('/')\n",
    "#    print(f\".encode(utf-8).split('/'){tokensBySlash}\")\n",
    "    allTokens = []\n",
    "    for i in tokensBySlash:\n",
    "        tokens = str(i).split('-')\n",
    "        tokensByDot = []\n",
    "        for j in range(0,len(tokens)):\n",
    "            tempTokens = str(tokens[j]).split('.')\n",
    "            tokensByDot = tokensByDot + tempTokens\n",
    "        allTokens = allTokens + tokens + tokensByDot\n",
    "    allTokens = list(set(allTokens))\n",
    "    if 'com' in allTokens:\n",
    "        allTokens.remove('com')\n",
    "    return allTokens\n",
    "\n",
    "#function to remove \"http://\" from URL\n",
    "def trim(url):\n",
    "    return re.match(r'(?:\\w*://)?(?:.*\\.)?([a-zA-Z-1-9]*\\.[a-zA-Z]{1,}).*', url).groups()[0]"
   ]
  },
  {
   "cell_type": "markdown",
   "metadata": {},
   "source": [
    "# Prepare Dataset"
   ]
  },
  {
   "cell_type": "code",
   "execution_count": 4,
   "metadata": {
    "collapsed": false
   },
   "outputs": [
    {
     "data": {
      "text/plain": [
       "array(['diaryofagameaddict.com', 'espdesign.com.au', 'iamagameaddict.com',\n",
       "       ..., 'owens.edu/news-releases/?p=2052',\n",
       "       '1.safesecureweb.com/egale/index.asp?item=1173',\n",
       "       'yurika.otakuthon.com/reg/main.pl/en/'], dtype=object)"
      ]
     },
     "execution_count": 4,
     "metadata": {},
     "output_type": "execute_result"
    }
   ],
   "source": [
    "#read from a \n",
    "#original code:\n",
    "# data = pd.read_csv(\"../data/dataNN.csv\",',',error_bad_lines=False)\t#reading file\n",
    "data = pd.read_csv(\"/workspaces/Malicious-URL-Detection-using-Machine-Learning/data/dataNN.csv\",on_bad_lines='warn')\t#reading file\n",
    "data['url'].values"
   ]
  },
  {
   "cell_type": "code",
   "execution_count": 5,
   "metadata": {
    "collapsed": false
   },
   "outputs": [
    {
     "data": {
      "text/plain": [
       "388447"
      ]
     },
     "execution_count": 5,
     "metadata": {},
     "output_type": "execute_result"
    }
   ],
   "source": [
    "len(data)"
   ]
  },
  {
   "cell_type": "code",
   "execution_count": null,
   "metadata": {
    "collapsed": false
   },
   "outputs": [],
   "source": []
  },
  {
   "cell_type": "code",
   "execution_count": null,
   "metadata": {
    "collapsed": true
   },
   "outputs": [],
   "source": []
  },
  {
   "cell_type": "code",
   "execution_count": null,
   "metadata": {
    "collapsed": true
   },
   "outputs": [],
   "source": []
  },
  {
   "cell_type": "code",
   "execution_count": 5,
   "metadata": {
    "collapsed": false
   },
   "outputs": [],
   "source": [
    "#convert it into numpy array and shuffle the dataset\n",
    "data = np.array(data)\n",
    "random.shuffle(data)\n"
   ]
  },
  {
   "cell_type": "code",
   "execution_count": null,
   "metadata": {
    "collapsed": false
   },
   "outputs": [],
   "source": []
  },
  {
   "cell_type": "code",
   "execution_count": 6,
   "metadata": {
    "collapsed": false
   },
   "outputs": [
    {
     "name": "stderr",
     "output_type": "stream",
     "text": [
      "/home/codespace/.local/lib/python3.12/site-packages/sklearn/feature_extraction/text.py:521: UserWarning: The parameter 'token_pattern' will not be used since 'tokenizer' is not None'\n",
      "  warnings.warn(\n"
     ]
    }
   ],
   "source": [
    "#convert text data into numerical data for machine learning models\n",
    "y = [d[1] for d in data]\n",
    "corpus = [d[0] for d in data]\n",
    "vectorizer = TfidfVectorizer(tokenizer=getTokens)\n",
    "X = vectorizer.fit_transform(corpus)\n",
    "\n"
   ]
  },
  {
   "cell_type": "code",
   "execution_count": 7,
   "metadata": {
    "collapsed": false
   },
   "outputs": [],
   "source": [
    "#split the data set inot train and test\n",
    "X_train, X_test, y_train, y_test = train_test_split(X, y, test_size=0.2, random_state=42)\n"
   ]
  },
  {
   "cell_type": "markdown",
   "metadata": {},
   "source": [
    "# Train Machine Learning Models "
   ]
  },
  {
   "cell_type": "code",
   "execution_count": 19,
   "metadata": {
    "collapsed": false
   },
   "outputs": [
    {
     "name": "stdout",
     "output_type": "stream",
     "text": [
      "Size: 0.01\t | Time: 0.8878660202026367\t | Accuracy: 0.8229501866392072\n",
      "Size: 0.02\t | Time: 1.287269115447998\t | Accuracy: 0.8615137083279701\n",
      "Size: 0.03\t | Time: 2.425034761428833\t | Accuracy: 0.8822113528124598\n",
      "Size: 0.04\t | Time: 1.992234230041504\t | Accuracy: 0.8922126399794054\n",
      "Size: 0.05\t | Time: 1.883533239364624\t | Accuracy: 0.9024070021881838\n",
      "Size: 0.060000000000000005\t | Time: 1.8107123374938965\t | Accuracy: 0.9099240571502124\n",
      "Size: 0.06999999999999999\t | Time: 1.7811572551727295\t | Accuracy: 0.9152529283048011\n",
      "Size: 0.08\t | Time: 1.7615242004394531\t | Accuracy: 0.9203243660702793\n",
      "Size: 0.09\t | Time: 1.711031198501587\t | Accuracy: 0.9257175955721457\n",
      "Size: 0.09999999999999999\t | Time: 3.5440871715545654\t | Accuracy: 0.9291157163084052\n",
      "Size: 0.11\t | Time: 1.9461421966552734\t | Accuracy: 0.932204916977732\n",
      "Size: 0.12\t | Time: 1.99782395362854\t | Accuracy: 0.9346247908353713\n",
      "Size: 0.13\t | Time: 2.2838497161865234\t | Accuracy: 0.9368515896511778\n",
      "Size: 0.14\t | Time: 2.1899454593658447\t | Accuracy: 0.9387308533916849\n",
      "Size: 0.15000000000000002\t | Time: 3.04579496383667\t | Accuracy: 0.9412279572660575\n",
      "Size: 0.16\t | Time: 1.5087530612945557\t | Accuracy: 0.9423735358475994\n",
      "Size: 0.17\t | Time: 3.184220314025879\t | Accuracy: 0.9447934097052387\n",
      "Size: 0.18000000000000002\t | Time: 3.861546277999878\t | Accuracy: 0.9467241601235681\n",
      "Size: 0.19\t | Time: 3.433793544769287\t | Accuracy: 0.9481271720942206\n",
      "Size: 0.2\t | Time: 2.6593093872070312\t | Accuracy: 0.9493113656841292\n",
      "Size: 0.21000000000000002\t | Time: 2.5847389698028564\t | Accuracy: 0.9504440725962158\n",
      "Size: 0.22\t | Time: 2.6090424060821533\t | Accuracy: 0.9520015446003347\n",
      "Size: 0.23\t | Time: 3.1031198501586914\t | Accuracy: 0.951254987771914\n",
      "Size: 0.24000000000000002\t | Time: 3.8288004398345947\t | Accuracy: 0.9534431715793539\n",
      "Size: 0.25\t | Time: 3.3406035900115967\t | Accuracy: 0.9541897284077745\n",
      "Size: 0.26\t | Time: 3.0786447525024414\t | Accuracy: 0.9548461835500064\n",
      "Size: 0.27\t | Time: 2.6485888957977295\t | Accuracy: 0.9563650405457588\n",
      "Size: 0.28\t | Time: 3.5078563690185547\t | Accuracy: 0.9570343673574463\n",
      "Size: 0.29000000000000004\t | Time: 1.9518191814422607\t | Accuracy: 0.9551937186253057\n",
      "Size: 0.3\t | Time: 3.2822134494781494\t | Accuracy: 0.958733427725576\n",
      "Size: 0.31\t | Time: 3.8464858531951904\t | Accuracy: 0.9594284978761746\n",
      "Size: 0.32\t | Time: 2.634835958480835\t | Accuracy: 0.9608572531857382\n",
      "Size: 0.33\t | Time: 3.439164638519287\t | Accuracy: 0.9616295533530699\n",
      "Size: 0.34\t | Time: 4.127226114273071\t | Accuracy: 0.9621572918007466\n",
      "Size: 0.35000000000000003\t | Time: 2.9444022178649902\t | Accuracy: 0.9628652336208006\n",
      "Size: 0.36000000000000004\t | Time: 3.9343535900115967\t | Accuracy: 0.9638820955077874\n",
      "Size: 0.37\t | Time: 4.3668129444122314\t | Accuracy: 0.9638434804994208\n",
      "Size: 0.38\t | Time: 2.613455057144165\t | Accuracy: 0.9632513837044665\n",
      "Size: 0.39\t | Time: 3.938345193862915\t | Accuracy: 0.9643454756081864\n",
      "Size: 0.4\t | Time: 5.218241453170776\t | Accuracy: 0.9662376110181491\n",
      "Size: 0.41000000000000003\t | Time: 4.5207037925720215\t | Accuracy: 0.9658772042733943\n",
      "Size: 0.42000000000000004\t | Time: 3.444641590118408\t | Accuracy: 0.9668297078131034\n",
      "Size: 0.43\t | Time: 3.7256321907043457\t | Accuracy: 0.967602007980435\n",
      "Size: 0.44\t | Time: 3.591273307800293\t | Accuracy: 0.9658257175955721\n",
      "Size: 0.45\t | Time: 5.156183958053589\t | Accuracy: 0.9672287295662247\n",
      "Size: 0.46\t | Time: 3.58901309967041\t | Accuracy: 0.9689535332732655\n",
      "Size: 0.47000000000000003\t | Time: 5.341983079910278\t | Accuracy: 0.9700090101686188\n",
      "Size: 0.48000000000000004\t | Time: 5.820968151092529\t | Accuracy: 0.9696099884154975\n",
      "Size: 0.49\t | Time: 4.924121379852295\t | Accuracy: 0.9711674604196164\n",
      "Size: 0.5\t | Time: 3.8724372386932373\t | Accuracy: 0.969133736645643\n",
      "Size: 0.51\t | Time: 4.996908664703369\t | Accuracy: 0.9704723902690179\n",
      "Size: 0.52\t | Time: 5.33123779296875\t | Accuracy: 0.9717209422062042\n",
      "Size: 0.53\t | Time: 5.075532913208008\t | Accuracy: 0.9711031020723387\n",
      "Size: 0.54\t | Time: 4.678463459014893\t | Accuracy: 0.9706397219719397\n",
      "Size: 0.55\t | Time: 4.299561023712158\t | Accuracy: 0.9723387823400695\n",
      "Size: 0.56\t | Time: 3.308159351348877\t | Accuracy: 0.9721585789676921\n",
      "Size: 0.5700000000000001\t | Time: 4.306485176086426\t | Accuracy: 0.9710644870639722\n",
      "Size: 0.5800000000000001\t | Time: 3.6998839378356934\t | Accuracy: 0.9697901917878748\n",
      "Size: 0.59\t | Time: 5.180930137634277\t | Accuracy: 0.9733813875659673\n",
      "Size: 0.6\t | Time: 4.078951358795166\t | Accuracy: 0.9723130390011584\n",
      "Size: 0.61\t | Time: 3.9625260829925537\t | Accuracy: 0.9699060368129746\n",
      "Size: 0.62\t | Time: 3.4348461627960205\t | Accuracy: 0.9698931651435191\n",
      "Size: 0.63\t | Time: 5.439947128295898\t | Accuracy: 0.9747843995366199\n",
      "Size: 0.64\t | Time: 5.426870346069336\t | Accuracy: 0.9745269661475093\n",
      "Size: 0.65\t | Time: 7.557243824005127\t | Accuracy: 0.9763161282018278\n",
      "Size: 0.66\t | Time: 6.243053197860718\t | Accuracy: 0.9758527481014287\n",
      "Size: 0.67\t | Time: 4.024230241775513\t | Accuracy: 0.9744883511391428\n",
      "Size: 0.68\t | Time: 4.431987524032593\t | Accuracy: 0.9753893680010297\n",
      "Size: 0.6900000000000001\t | Time: 5.229327201843262\t | Accuracy: 0.9753893680010297\n",
      "Size: 0.7000000000000001\t | Time: 3.7313616275787354\t | Accuracy: 0.9764577165658386\n",
      "Size: 0.7100000000000001\t | Time: 6.034504413604736\t | Accuracy: 0.9771013000386151\n",
      "Size: 0.72\t | Time: 3.9578697681427\t | Accuracy: 0.9758398764319732\n",
      "Size: 0.73\t | Time: 5.33013653755188\t | Accuracy: 0.9769468400051486\n",
      "Size: 0.74\t | Time: 4.545717716217041\t | Accuracy: 0.9771656583858926\n",
      "Size: 0.75\t | Time: 5.428532600402832\t | Accuracy: 0.9767280216244046\n",
      "Size: 0.76\t | Time: 6.714126110076904\t | Accuracy: 0.9778478568670357\n",
      "Size: 0.77\t | Time: 6.255974769592285\t | Accuracy: 0.9785300553481786\n",
      "Size: 0.78\t | Time: 6.104353904724121\t | Accuracy: 0.9785557986870898\n",
      "Size: 0.79\t | Time: 4.919924259185791\t | Accuracy: 0.9796370189213541\n",
      "Size: 0.8\t | Time: 6.153061151504517\t | Accuracy: 0.9784914403398121\n",
      "Size: 0.81\t | Time: 5.045346021652222\t | Accuracy: 0.9796370189213541\n",
      "Size: 0.8200000000000001\t | Time: 5.991305828094482\t | Accuracy: 0.9794053288711546\n",
      "Size: 0.8300000000000001\t | Time: 4.388535737991333\t | Accuracy: 0.9799845539966534\n",
      "Size: 0.8400000000000001\t | Time: 9.021306037902832\t | Accuracy: 0.9803707040803192\n",
      "Size: 0.85\t | Time: 5.147711753845215\t | Accuracy: 0.9793924572016991\n",
      "Size: 0.86\t | Time: 4.525721549987793\t | Accuracy: 0.978903333762389\n",
      "Size: 0.87\t | Time: 2.8465399742126465\t | Accuracy: 0.9778478568670357\n",
      "Size: 0.88\t | Time: 5.346067667007446\t | Accuracy: 0.9806796241472518\n",
      "Size: 0.89\t | Time: 4.917130947113037\t | Accuracy: 0.9786330287038228\n",
      "Size: 0.9\t | Time: 6.145931243896484\t | Accuracy: 0.9819667910928047\n",
      "Size: 0.91\t | Time: 4.787208795547485\t | Accuracy: 0.9813489509589394\n",
      "Size: 0.92\t | Time: 3.770287036895752\t | Accuracy: 0.9804221907581413\n",
      "Size: 0.93\t | Time: 6.993820428848267\t | Accuracy: 0.9820440211095379\n",
      "Size: 0.9400000000000001\t | Time: 5.979799509048462\t | Accuracy: 0.9821984811430042\n",
      "Size: 0.9500000000000001\t | Time: 6.277191162109375\t | Accuracy: 0.9821598661346377\n",
      "Size: 0.9600000000000001\t | Time: 8.385440111160278\t | Accuracy: 0.9829192946325138\n",
      "Size: 0.97\t | Time: 6.119595527648926\t | Accuracy: 0.9817093577036942\n",
      "Size: 0.98\t | Time: 4.507650852203369\t | Accuracy: 0.9823271978375595\n",
      "Size: 0.99\t | Time: 6.0783531665802\t | Accuracy: 0.9836272364525679\n",
      "Size: 1.0\t | Time: 5.0934739112854\t | Accuracy: 0.9826489895739478\n"
     ]
    },
    {
     "data": {
      "image/png": "[encoded data removed]",
      "text/plain": [
       "<Figure size 640x480 with 1 Axes>"
      ]
     },
     "metadata": {},
     "output_type": "display_data"
    }
   ],
   "source": [
    "#1 - Logistic Regression\n",
    "import time\n",
    "import matplotlib.pyplot as plt\n",
    "\n",
    "\n",
    "\n",
    "#model = LogisticRegression(C=1)\n",
    "#model.fit(X_train, y_train)\n",
    "\n",
    "times = []\n",
    "accuracy = []\n",
    "\n",
    "train_sizes = np.arange(0.01, 1.01, 0.01)\n",
    "\n",
    "for size in train_sizes:\n",
    "    trainers = int(X_train.shape[0] * size)\n",
    "\n",
    "    X_trainer = X_train[:trainers]\n",
    "    y_trainer = y_train[:trainers]\n",
    "\n",
    "    start = time.time()\n",
    "\n",
    "    model = LogisticRegression(max_iter=200)\n",
    "    model.fit(X_trainer, y_trainer)\n",
    "\n",
    "    end = time.time()\n",
    "\n",
    "    y_predict = model.predict(X_test)\n",
    "\n",
    "    accuracy_of_section = accuracy_score(y_test, y_predict)\n",
    "\n",
    "    times.append(end-start)\n",
    "    accuracy.append(accuracy_of_section)\n",
    "\n",
    "    print(f\"Size: {size}\\t | Time: {end-start}\\t | Accuracy: {accuracy_of_section}\")\n",
    "\n",
    "\n",
    "plt.title(\"Logistic Regression\")\n",
    "plt.xlabel(\"Time (seconds)\")\n",
    "plt.ylabel(\"Accuracy\")\n",
    "plt.scatter(times, accuracy)\n",
    "plt.show()\n",
    "\n",
    "#RUN AGAIN\n"
   ]
  },
  {
   "cell_type": "code",
   "execution_count": 10,
   "metadata": {
    "collapsed": false
   },
   "outputs": [
    {
     "name": "stdout",
     "output_type": "stream",
     "text": [
      "0.982558887887759\n"
     ]
    }
   ],
   "source": [
    "print(model.score(X_test,y_test))"
   ]
  },
  {
   "cell_type": "code",
   "execution_count": 11,
   "metadata": {
    "collapsed": false
   },
   "outputs": [
    {
     "data": {
      "text/plain": [
       "['vectorizer1.pkl']"
      ]
     },
     "execution_count": 11,
     "metadata": {},
     "output_type": "execute_result"
    }
   ],
   "source": [
    "#save the model and vectorizer\n",
    "joblib.dump(model, \"mal-logireg1.pkl\", protocol=2)\n",
    "joblib.dump(vectorizer, \"vectorizer1.pkl\", protocol=2)"
   ]
  },
  {
   "cell_type": "code",
   "execution_count": 12,
   "metadata": {
    "collapsed": false
   },
   "outputs": [
    {
     "data": {
      "text/plain": [
       "np.int64(0)"
      ]
     },
     "execution_count": 12,
     "metadata": {},
     "output_type": "execute_result"
    }
   ],
   "source": [
    "#make prediction\n",
    "a = \"http://www.savanvisalpara.com\"\n",
    "aa = vectorizer.transform([trim(a)])\n",
    "s = model.predict(aa)\n",
    "s[0] #0 for good"
   ]
  },
  {
   "cell_type": "code",
   "execution_count": null,
   "metadata": {
    "collapsed": false
   },
   "outputs": [
    {
     "name": "stdout",
     "output_type": "stream",
     "text": [
      "Size: 0.01\t | Time: 0.6683669090270996\t | Accuracy: 0.8351782726219591\n",
      "Size: 0.02\t | Time: 0.6132736206054688\t | Accuracy: 0.8344960741408161\n",
      "Size: 0.03\t | Time: 0.625877857208252\t | Accuracy: 0.8414982623246235\n",
      "Size: 0.04\t | Time: 0.6330797672271729\t | Accuracy: 0.8373535847599434\n",
      "Size: 0.05\t | Time: 0.6151964664459229\t | Accuracy: 0.8345218174797271\n",
      "Size: 0.060000000000000005\t | Time: 0.6620578765869141\t | Accuracy: 0.8272621959068092\n",
      "Size: 0.06999999999999999\t | Time: 0.6005048751831055\t | Accuracy: 0.8277641910155747\n",
      "Size: 0.08\t | Time: 0.6189470291137695\t | Accuracy: 0.8400566353456044\n",
      "Size: 0.09\t | Time: 0.616894006729126\t | Accuracy: 0.834251512421161\n",
      "Size: 0.09999999999999999\t | Time: 0.6013498306274414\t | Accuracy: 0.8378684515381645\n",
      "Size: 0.11\t | Time: 0.6461184024810791\t | Accuracy: 0.8320375852748101\n",
      "Size: 0.12\t | Time: 0.6121752262115479\t | Accuracy: 0.8379456815548977\n",
      "Size: 0.13\t | Time: 0.6150684356689453\t | Accuracy: 0.8256918522332346\n",
      "Size: 0.14\t | Time: 0.6135594844818115\t | Accuracy: 0.8328098854421419\n",
      "Size: 0.15000000000000002\t | Time: 0.6274747848510742\t | Accuracy: 0.8440597245462736\n",
      "Size: 0.16\t | Time: 0.6318418979644775\t | Accuracy: 0.8286008495301841\n",
      "Size: 0.17\t | Time: 0.617354154586792\t | Accuracy: 0.8250096537520917\n",
      "Size: 0.18000000000000002\t | Time: 0.6261508464813232\t | Accuracy: 0.8408675505213026\n",
      "Size: 0.19\t | Time: 0.6556227207183838\t | Accuracy: 0.838782340069507\n",
      "Size: 0.2\t | Time: 0.730238676071167\t | Accuracy: 0.8351396576135924\n",
      "Size: 0.21000000000000002\t | Time: 0.6331315040588379\t | Accuracy: 0.8382803449607414\n",
      "Size: 0.22\t | Time: 0.6431643962860107\t | Accuracy: 0.8329772171450637\n",
      "Size: 0.23\t | Time: 0.5896744728088379\t | Accuracy: 0.8291800746556829\n",
      "Size: 0.24000000000000002\t | Time: 0.6281025409698486\t | Accuracy: 0.8321405586304543\n",
      "Size: 0.25\t | Time: 0.6231532096862793\t | Accuracy: 0.8262195906809113\n",
      "Size: 0.26\t | Time: 0.6125655174255371\t | Accuracy: 0.8377783498519759\n",
      "Size: 0.27\t | Time: 0.6157734394073486\t | Accuracy: 0.8384991633414854\n",
      "Size: 0.28\t | Time: 0.6199421882629395\t | Accuracy: 0.8379585532243532\n",
      "Size: 0.29000000000000004\t | Time: 0.6260948181152344\t | Accuracy: 0.8293216630196937\n",
      "Size: 0.3\t | Time: 0.627354621887207\t | Accuracy: 0.8351525292830481\n",
      "Size: 0.31\t | Time: 0.9800834655761719\t | Accuracy: 0.827455270948642\n",
      "Size: 0.32\t | Time: 0.6204478740692139\t | Accuracy: 0.8397219719397606\n",
      "Size: 0.33\t | Time: 0.6609578132629395\t | Accuracy: 0.838074398249453\n",
      "Size: 0.34\t | Time: 0.6137943267822266\t | Accuracy: 0.8326811687475866\n",
      "Size: 0.35000000000000003\t | Time: 0.68644118309021\t | Accuracy: 0.8247650920324366\n",
      "Size: 0.36000000000000004\t | Time: 0.5947885513305664\t | Accuracy: 0.8306603166430686\n",
      "Size: 0.37\t | Time: 0.6582703590393066\t | Accuracy: 0.8339297206847728\n",
      "Size: 0.38\t | Time: 0.606337308883667\t | Accuracy: 0.8306860599819796\n",
      "Size: 0.39\t | Time: 0.6059951782226562\t | Accuracy: 0.8339168490153173\n",
      "Size: 0.4\t | Time: 0.6189358234405518\t | Accuracy: 0.8386150083665851\n",
      "Size: 0.41000000000000003\t | Time: 0.6583588123321533\t | Accuracy: 0.8309434933710902\n",
      "Size: 0.42000000000000004\t | Time: 0.6105532646179199\t | Accuracy: 0.8353584759943364\n",
      "Size: 0.43\t | Time: 0.7850642204284668\t | Accuracy: 0.8375852748101429\n",
      "Size: 0.44\t | Time: 0.6505310535430908\t | Accuracy: 0.8330287038228859\n",
      "Size: 0.45\t | Time: 0.6615071296691895\t | Accuracy: 0.8321920453082765\n",
      "Size: 0.46\t | Time: 0.6400482654571533\t | Accuracy: 0.8335178272621959\n",
      "Size: 0.47000000000000003\t | Time: 0.6795785427093506\t | Accuracy: 0.8423992791865105\n",
      "Size: 0.48000000000000004\t | Time: 0.6189146041870117\t | Accuracy: 0.8386664950444073\n",
      "Size: 0.49\t | Time: 0.6252832412719727\t | Accuracy: 0.8311365684129232\n",
      "Size: 0.5\t | Time: 0.6294267177581787\t | Accuracy: 0.8277127043377526\n",
      "Size: 0.51\t | Time: 0.626784086227417\t | Accuracy: 0.8361179044922127\n",
      "Size: 0.52\t | Time: 0.6147360801696777\t | Accuracy: 0.8382803449607414\n",
      "Size: 0.53\t | Time: 0.6163187026977539\t | Accuracy: 0.8325524520530313\n",
      "Size: 0.54\t | Time: 0.7110981941223145\t | Accuracy: 0.8228858282919295\n",
      "Size: 0.55\t | Time: 0.6566810607910156\t | Accuracy: 0.8348564808855709\n",
      "Size: 0.56\t | Time: 0.6304788589477539\t | Accuracy: 0.8415626206719011\n",
      "Size: 0.5700000000000001\t | Time: 0.618422269821167\t | Accuracy: 0.8389368001029733\n",
      "Size: 0.5800000000000001\t | Time: 0.6445097923278809\t | Accuracy: 0.8297592997811816\n",
      "Size: 0.59\t | Time: 0.6212618350982666\t | Accuracy: 0.8273394259235423\n",
      "Size: 0.6\t | Time: 0.6419568061828613\t | Accuracy: 0.8291929463251384\n",
      "Size: 0.61\t | Time: 0.6289033889770508\t | Accuracy: 0.8259106706139786\n",
      "Size: 0.62\t | Time: 0.612285852432251\t | Accuracy: 0.825872055605612\n",
      "Size: 0.63\t | Time: 0.6215348243713379\t | Accuracy: 0.8265671257562106\n",
      "Size: 0.64\t | Time: 0.635521411895752\t | Accuracy: 0.8434933710902304\n",
      "Size: 0.65\t | Time: 0.6130094528198242\t | Accuracy: 0.8332861372119964\n",
      "Size: 0.66\t | Time: 0.6770334243774414\t | Accuracy: 0.8349208392328485\n",
      "Size: 0.67\t | Time: 0.6169388294219971\t | Accuracy: 0.8242502252542154\n",
      "Size: 0.68\t | Time: 0.6043267250061035\t | Accuracy: 0.8271334792122538\n",
      "Size: 0.6900000000000001\t | Time: 0.6178834438323975\t | Accuracy: 0.8392972068477281\n",
      "Size: 0.7000000000000001\t | Time: 0.6083450317382812\t | Accuracy: 0.834058437379328\n",
      "Size: 0.7100000000000001\t | Time: 0.6132388114929199\t | Accuracy: 0.8374823014544986\n",
      "Size: 0.72\t | Time: 0.6192309856414795\t | Accuracy: 0.8246492470073369\n",
      "Size: 0.73\t | Time: 0.6447815895080566\t | Accuracy: 0.8238640751705496\n",
      "Size: 0.74\t | Time: 0.6116571426391602\t | Accuracy: 0.8315484618355\n",
      "Size: 0.75\t | Time: 0.6582715511322021\t | Accuracy: 0.8364525678980563\n",
      "Size: 0.76\t | Time: 0.6685609817504883\t | Accuracy: 0.8397477152786716\n",
      "Size: 0.77\t | Time: 0.6587560176849365\t | Accuracy: 0.840610117132192\n",
      "Size: 0.78\t | Time: 0.6160645484924316\t | Accuracy: 0.8361307761616682\n",
      "Size: 0.79\t | Time: 0.6226375102996826\t | Accuracy: 0.8393873085339169\n",
      "Size: 0.8\t | Time: 0.6093959808349609\t | Accuracy: 0.8281503410992406\n",
      "Size: 0.81\t | Time: 0.6411707401275635\t | Accuracy: 0.8326554254086755\n",
      "Size: 0.8200000000000001\t | Time: 0.6370527744293213\t | Accuracy: 0.835615909383447\n",
      "Size: 0.8300000000000001\t | Time: 0.6240870952606201\t | Accuracy: 0.8343802291157163\n",
      "Size: 0.8400000000000001\t | Time: 0.6101131439208984\t | Accuracy: 0.8371991247264771\n",
      "Size: 0.85\t | Time: 0.6363394260406494\t | Accuracy: 0.8256403655554125\n",
      "Size: 0.86\t | Time: 0.6053996086120605\t | Accuracy: 0.8410863689020466\n",
      "Size: 0.87\t | Time: 0.7162671089172363\t | Accuracy: 0.834444587462994\n",
      "Size: 0.88\t | Time: 0.6214234828948975\t | Accuracy: 0.835371347663792\n",
      "Size: 0.89\t | Time: 0.6848928928375244\t | Accuracy: 0.8409190371991248\n",
      "Size: 0.9\t | Time: 0.607546329498291\t | Accuracy: 0.8280602394130518\n",
      "Size: 0.91\t | Time: 0.7092549800872803\t | Accuracy: 0.836027802806024\n",
      "Size: 0.92\t | Time: 0.6867921352386475\t | Accuracy: 0.8377397348436092\n",
      "Size: 0.93\t | Time: 0.6274795532226562\t | Accuracy: 0.8289998712833054\n",
      "Size: 0.9400000000000001\t | Time: 0.6451380252838135\t | Accuracy: 0.8423477925086884\n",
      "Size: 0.9500000000000001\t | Time: 0.6067278385162354\t | Accuracy: 0.8343802291157163\n",
      "Size: 0.9600000000000001\t | Time: 0.6215338706970215\t | Accuracy: 0.8419101557472004\n",
      "Size: 0.97\t | Time: 0.6111698150634766\t | Accuracy: 0.8313811301325782\n",
      "Size: 0.98\t | Time: 0.6478617191314697\t | Accuracy: 0.8266057407645772\n",
      "Size: 0.99\t | Time: 0.630103349685669\t | Accuracy: 0.8266186124340327\n"
     ]
    },
    {
     "data": {
      "image/png": "[encoded data removed]",
      "text/plain": [
       "<Figure size 640x480 with 1 Axes>"
      ]
     },
     "metadata": {},
     "output_type": "display_data"
    }
   ],
   "source": [
    "#2 - SVM\n",
    "import time\n",
    "from sklearn.svm import SVC\n",
    "import matplotlib.pyplot as plt\n",
    "#from sklearn import svm\n",
    "svcModel = SVC()\n",
    "\n",
    "times = []\n",
    "accuracy = []\n",
    "\n",
    "train_sizes = np.arange(.01, 1.01, .01)\n",
    "\n",
    "for size in train_sizes:\n",
    "    trainers = int(X_train.shape[0] * size)\n",
    "\n",
    "    X_trainer = X_train[:trainers]\n",
    "    y_trainer = y_train[:trainers]\n",
    "    \n",
    "    start = time.time()\n",
    "\n",
    "    svcModel.fit(X_trainer, y_trainer)\n",
    "\n",
    "    end = time.time()\n",
    "\n",
    "    y_predict = svcModel.predict(X_test)\n",
    "    accuracy_of_section = accuracy_score(y_test, y_predict)\n",
    "\n",
    "    times.append(end-start)\n",
    "    accuracy.append(accuracy_of_section)\n",
    "\n",
    "    print(f\"Size: {size}\\t | Time: {end-start}\\t | Accuracy: {accuracy_of_section}\")\n",
    "\n",
    "plt.title(\"SVC Model\")\n",
    "plt.xlabel(\"Time (seconds)\")\n",
    "plt.ylabel(\"Accuracy\")\n",
    "plt.scatter(times, accuracy)\n",
    "plt.show()\n",
    "\n",
    "#svcModel.fit(X_train, y_train)\n",
    "#lsvcModel = svm.LinearSVC.fit(X_train, y_train)"
   ]
  },
  {
   "cell_type": "code",
   "execution_count": 21,
   "metadata": {},
   "outputs": [
    {
     "name": "stdout",
     "output_type": "stream",
     "text": [
      "Size: 0.01\t | Time: 0.010115623474121094\t | Accuracy: 0.8883897541511134\n",
      "Size: 0.02\t | Time: 0.012953758239746094\t | Accuracy: 0.9143519114429142\n",
      "Size: 0.03\t | Time: 0.018421173095703125\t | Accuracy: 0.9290256146222166\n",
      "Size: 0.04\t | Time: 0.030514955520629883\t | Accuracy: 0.9378941948770756\n",
      "Size: 0.05\t | Time: 0.041544198989868164\t | Accuracy: 0.9435963444458746\n",
      "Size: 0.060000000000000005\t | Time: 0.049309492111206055\t | Accuracy: 0.9486162955335307\n",
      "Size: 0.06999999999999999\t | Time: 0.04345059394836426\t | Accuracy: 0.9520916462865233\n",
      "Size: 0.08\t | Time: 0.0469210147857666\t | Accuracy: 0.955566997039516\n",
      "Size: 0.09\t | Time: 0.05095648765563965\t | Accuracy: 0.9588364010812203\n",
      "Size: 0.09999999999999999\t | Time: 0.05562591552734375\t | Accuracy: 0.9620543184451024\n",
      "Size: 0.11\t | Time: 0.06007552146911621\t | Accuracy: 0.964628652336208\n",
      "Size: 0.12\t | Time: 0.06691622734069824\t | Accuracy: 0.9668554511520144\n",
      "Size: 0.13\t | Time: 0.07035636901855469\t | Accuracy: 0.9684515381644999\n",
      "Size: 0.14\t | Time: 0.07508444786071777\t | Accuracy: 0.970060496846441\n",
      "Size: 0.15000000000000002\t | Time: 0.08062148094177246\t | Accuracy: 0.9713219204530827\n",
      "Size: 0.16\t | Time: 0.09234404563903809\t | Accuracy: 0.9723387823400695\n",
      "Size: 0.17\t | Time: 0.09959578514099121\t | Accuracy: 0.9736903076329\n",
      "Size: 0.18000000000000002\t | Time: 0.12227463722229004\t | Accuracy: 0.9747457845282533\n",
      "Size: 0.19\t | Time: 0.11081147193908691\t | Accuracy: 0.976174539837817\n",
      "Size: 0.2\t | Time: 0.10254836082458496\t | Accuracy: 0.9775260651306474\n",
      "Size: 0.21000000000000002\t | Time: 0.10559511184692383\t | Accuracy: 0.9785171836787231\n",
      "Size: 0.22\t | Time: 0.11198592185974121\t | Accuracy: 0.9791865104904106\n",
      "Size: 0.23\t | Time: 0.1213986873626709\t | Accuracy: 0.980048912343931\n",
      "Size: 0.24000000000000002\t | Time: 0.12149906158447266\t | Accuracy: 0.9809241858669069\n",
      "Size: 0.25\t | Time: 0.13235068321228027\t | Accuracy: 0.9817737160509719\n",
      "Size: 0.26\t | Time: 0.13809418678283691\t | Accuracy: 0.982314326168104\n",
      "Size: 0.27\t | Time: 0.13497424125671387\t | Accuracy: 0.9828034496074141\n",
      "Size: 0.28\t | Time: 0.14198851585388184\t | Accuracy: 0.9837430814776676\n",
      "Size: 0.29000000000000004\t | Time: 0.146104097366333\t | Accuracy: 0.984386664950444\n",
      "Size: 0.3\t | Time: 0.1471717357635498\t | Accuracy: 0.9847084566868323\n",
      "Size: 0.31\t | Time: 0.15400409698486328\t | Accuracy: 0.9851975801261423\n",
      "Size: 0.32\t | Time: 0.16181039810180664\t | Accuracy: 0.9854678851847084\n",
      "Size: 0.33\t | Time: 0.19074010848999023\t | Accuracy: 0.9861114686574849\n",
      "Size: 0.34\t | Time: 0.17884588241577148\t | Accuracy: 0.986600592096795\n",
      "Size: 0.35000000000000003\t | Time: 0.18841791152954102\t | Accuracy: 0.9870768438666495\n",
      "Size: 0.36000000000000004\t | Time: 0.17551827430725098\t | Accuracy: 0.9874243789419488\n",
      "Size: 0.37\t | Time: 0.19237565994262695\t | Accuracy: 0.9875917106448706\n",
      "Size: 0.38\t | Time: 0.2076737880706787\t | Accuracy: 0.9877204273394259\n",
      "Size: 0.39\t | Time: 0.1903529167175293\t | Accuracy: 0.9878877590423478\n",
      "Size: 0.4\t | Time: 0.20244884490966797\t | Accuracy: 0.9883253958038357\n",
      "Size: 0.41000000000000003\t | Time: 0.2018272876739502\t | Accuracy: 0.988647187540224\n",
      "Size: 0.42000000000000004\t | Time: 0.29329514503479004\t | Accuracy: 0.9890333376238898\n",
      "Size: 0.43\t | Time: 0.23320484161376953\t | Accuracy: 0.9894838460548333\n",
      "Size: 0.44\t | Time: 0.2375638484954834\t | Accuracy: 0.9899343544857768\n",
      "Size: 0.45\t | Time: 0.23273134231567383\t | Accuracy: 0.9901274295276097\n",
      "Size: 0.46\t | Time: 0.29468774795532227\t | Accuracy: 0.9905135796112756\n",
      "Size: 0.47000000000000003\t | Time: 0.24948358535766602\t | Accuracy: 0.9908611146865749\n",
      "Size: 0.48000000000000004\t | Time: 0.25885486602783203\t | Accuracy: 0.9911056764062299\n",
      "Size: 0.49\t | Time: 0.31350088119506836\t | Accuracy: 0.9911957780924185\n",
      "Size: 0.5\t | Time: 0.2922027111053467\t | Accuracy: 0.9914403398120736\n",
      "Size: 0.51\t | Time: 0.30251598358154297\t | Accuracy: 0.991620543184451\n",
      "Size: 0.52\t | Time: 0.29219627380371094\t | Accuracy: 0.991839361565195\n",
      "Size: 0.53\t | Time: 0.3100616931915283\t | Accuracy: 0.9921096666237611\n",
      "Size: 0.54\t | Time: 0.36318206787109375\t | Accuracy: 0.9922641266572274\n",
      "Size: 0.55\t | Time: 0.5136678218841553\t | Accuracy: 0.9924443300296049\n",
      "Size: 0.56\t | Time: 0.3775360584259033\t | Accuracy: 0.9927146350881709\n",
      "Size: 0.5700000000000001\t | Time: 0.36830687522888184\t | Accuracy: 0.9929077101300039\n",
      "Size: 0.5800000000000001\t | Time: 0.44971323013305664\t | Accuracy: 0.9930492984940147\n",
      "Size: 0.59\t | Time: 0.40019869804382324\t | Accuracy: 0.993229501866392\n",
      "Size: 0.6\t | Time: 0.479567289352417\t | Accuracy: 0.9934611919165915\n",
      "Size: 0.61\t | Time: 0.4569282531738281\t | Accuracy: 0.993615651950058\n",
      "Size: 0.62\t | Time: 0.45346999168395996\t | Accuracy: 0.9939245720169906\n",
      "Size: 0.63\t | Time: 0.43548059463500977\t | Accuracy: 0.9940532887115459\n",
      "Size: 0.64\t | Time: 0.44919443130493164\t | Accuracy: 0.9942849787617454\n",
      "Size: 0.65\t | Time: 0.4666891098022461\t | Accuracy: 0.9945166688119449\n",
      "Size: 0.66\t | Time: 0.5447101593017578\t | Accuracy: 0.9946968721843223\n",
      "Size: 0.67\t | Time: 0.516963005065918\t | Accuracy: 0.9949414339039774\n",
      "Size: 0.68\t | Time: 0.5851132869720459\t | Accuracy: 0.995005792251255\n",
      "Size: 0.6900000000000001\t | Time: 0.5676009654998779\t | Accuracy: 0.9950958939374437\n",
      "Size: 0.7000000000000001\t | Time: 0.571613073348999\t | Accuracy: 0.995224610631999\n",
      "Size: 0.7100000000000001\t | Time: 0.5769567489624023\t | Accuracy: 0.9954176856738319\n",
      "Size: 0.72\t | Time: 0.5821933746337891\t | Accuracy: 0.9955464023683872\n",
      "Size: 0.73\t | Time: 0.5736541748046875\t | Accuracy: 0.9957394774102201\n",
      "Size: 0.74\t | Time: 0.6066427230834961\t | Accuracy: 0.9958681941047753\n",
      "Size: 0.75\t | Time: 0.7620501518249512\t | Accuracy: 0.9958424507658643\n",
      "Size: 0.76\t | Time: 0.6567306518554688\t | Accuracy: 0.995906809113142\n",
      "Size: 0.77\t | Time: 0.652515172958374\t | Accuracy: 0.9959582957909641\n",
      "Size: 0.78\t | Time: 0.7587220668792725\t | Accuracy: 0.9960097824687862\n",
      "Size: 0.79\t | Time: 0.6495108604431152\t | Accuracy: 0.996125627493886\n",
      "Size: 0.8\t | Time: 0.6862068176269531\t | Accuracy: 0.9962286008495301\n",
      "Size: 0.81\t | Time: 0.7149767875671387\t | Accuracy: 0.9963315742051744\n",
      "Size: 0.8200000000000001\t | Time: 0.689903736114502\t | Accuracy: 0.9964474192302741\n",
      "Size: 0.8300000000000001\t | Time: 0.7669882774353027\t | Accuracy: 0.9964989059080963\n",
      "Size: 0.8400000000000001\t | Time: 0.7362334728240967\t | Accuracy: 0.9965375209164629\n",
      "Size: 0.85\t | Time: 0.818495512008667\t | Accuracy: 0.9966018792637406\n",
      "Size: 0.86\t | Time: 0.7630870342254639\t | Accuracy: 0.9967048526193847\n",
      "Size: 0.87\t | Time: 0.7506027221679688\t | Accuracy: 0.9968206976444844\n",
      "Size: 0.88\t | Time: 0.8178195953369141\t | Accuracy: 0.9969880293474064\n",
      "Size: 0.89\t | Time: 0.8814411163330078\t | Accuracy: 0.9970395160252284\n",
      "Size: 0.9\t | Time: 0.8477249145507812\t | Accuracy: 0.9970781310335951\n",
      "Size: 0.91\t | Time: 0.9148950576782227\t | Accuracy: 0.9971038743725061\n",
      "Size: 0.92\t | Time: 0.8311569690704346\t | Accuracy: 0.9971939760586949\n",
      "Size: 0.93\t | Time: 0.8988921642303467\t | Accuracy: 0.9971939760586949\n",
      "Size: 0.9400000000000001\t | Time: 0.8890833854675293\t | Accuracy: 0.9972197193976059\n",
      "Size: 0.9500000000000001\t | Time: 0.9637458324432373\t | Accuracy: 0.997271206075428\n",
      "Size: 0.9600000000000001\t | Time: 0.976447343826294\t | Accuracy: 0.997271206075428\n",
      "Size: 0.97\t | Time: 0.909886360168457\t | Accuracy: 0.9973613077616167\n",
      "Size: 0.98\t | Time: 0.9134840965270996\t | Accuracy: 0.9973741794310722\n",
      "Size: 0.99\t | Time: 0.9643058776855469\t | Accuracy: 0.9974642811172609\n",
      "Size: 1.0\t | Time: 1.146684169769287\t | Accuracy: 0.9974642811172609\n"
     ]
    },
    {
     "data": {
      "image/png": "[encoded data removed]",
      "text/plain": [
       "<Figure size 640x480 with 1 Axes>"
      ]
     },
     "metadata": {},
     "output_type": "display_data"
    }
   ],
   "source": [
    "from sklearn import svm\n",
    "\n",
    "lsvcModel = svm.LinearSVC()\n",
    "\n",
    "times = []\n",
    "accuracy = []\n",
    "\n",
    "train_sizes = np.arange(.01, 1.01, .01)\n",
    "\n",
    "for size in train_sizes:\n",
    "    trainers = int(X_train.shape[0] * size)\n",
    "\n",
    "    X_trainer = X_train[:trainers]\n",
    "    y_trainer = y_train[:trainers]\n",
    "\n",
    "    start = time.time()\n",
    "    \n",
    "    lsvcModel.fit(X_trainer, y_trainer)\n",
    "\n",
    "    end = time.time()\n",
    "\n",
    "    y_predict = lsvcModel.predict(X_test)\n",
    "    accuracy_of_section = accuracy_score(y_test, y_predict)\n",
    "\n",
    "    times.append(end-start)\n",
    "    accuracy.append(accuracy_of_section)\n",
    "\n",
    "    print(f\"Size: {size}\\t | Time: {end-start}\\t | Accuracy: {accuracy_of_section}\")\n",
    "\n",
    "plt.title(\"LSVC Model\")\n",
    "plt.xlabel(\"Times (seconds)\")\n",
    "plt.ylabel(\"Accuracy\")\n",
    "plt.scatter(times, accuracy)\n",
    "plt.show()"
   ]
  },
  {
   "cell_type": "code",
   "execution_count": null,
   "metadata": {
    "collapsed": false
   },
   "outputs": [],
   "source": [
    "svcModel.score(X_test, y_test)"
   ]
  },
  {
   "cell_type": "code",
   "execution_count": 9,
   "metadata": {
    "collapsed": true
   },
   "outputs": [],
   "source": [
    "from sklearn.ensemble import RandomForestClassifier"
   ]
  },
  {
   "cell_type": "code",
   "execution_count": 10,
   "metadata": {
    "collapsed": true
   },
   "outputs": [
    {
     "data": {
      "text/html": [
       "<style>#sk-container-id-1 {\n",
       "  /* Definition of color scheme common for light and dark mode */\n",
       "  --sklearn-color-text: black;\n",
       "  --sklearn-color-line: gray;\n",
       "  /* Definition of color scheme for unfitted estimators */\n",
       "  --sklearn-color-unfitted-level-0: #fff5e6;\n",
       "  --sklearn-color-unfitted-level-1: #f6e4d2;\n",
       "  --sklearn-color-unfitted-level-2: #ffe0b3;\n",
       "  --sklearn-color-unfitted-level-3: chocolate;\n",
       "  /* Definition of color scheme for fitted estimators */\n",
       "  --sklearn-color-fitted-level-0: #f0f8ff;\n",
       "  --sklearn-color-fitted-level-1: #d4ebff;\n",
       "  --sklearn-color-fitted-level-2: #b3dbfd;\n",
       "  --sklearn-color-fitted-level-3: cornflowerblue;\n",
       "\n",
       "  /* Specific color for light theme */\n",
       "  --sklearn-color-text-on-default-background: var(--sg-text-color, var(--theme-code-foreground, var(--jp-content-font-color1, black)));\n",
       "  --sklearn-color-background: var(--sg-background-color, var(--theme-background, var(--jp-layout-color0, white)));\n",
       "  --sklearn-color-border-box: var(--sg-text-color, var(--theme-code-foreground, var(--jp-content-font-color1, black)));\n",
       "  --sklearn-color-icon: #696969;\n",
       "\n",
       "  @media (prefers-color-scheme: dark) {\n",
       "    /* Redefinition of color scheme for dark theme */\n",
       "    --sklearn-color-text-on-default-background: var(--sg-text-color, var(--theme-code-foreground, var(--jp-content-font-color1, white)));\n",
       "    --sklearn-color-background: var(--sg-background-color, var(--theme-background, var(--jp-layout-color0, #111)));\n",
       "    --sklearn-color-border-box: var(--sg-text-color, var(--theme-code-foreground, var(--jp-content-font-color1, white)));\n",
       "    --sklearn-color-icon: #878787;\n",
       "  }\n",
       "}\n",
       "\n",
       "#sk-container-id-1 {\n",
       "  color: var(--sklearn-color-text);\n",
       "}\n",
       "\n",
       "#sk-container-id-1 pre {\n",
       "  padding: 0;\n",
       "}\n",
       "\n",
       "#sk-container-id-1 input.sk-hidden--visually {\n",
       "  border: 0;\n",
       "  clip: rect(1px 1px 1px 1px);\n",
       "  clip: rect(1px, 1px, 1px, 1px);\n",
       "  height: 1px;\n",
       "  margin: -1px;\n",
       "  overflow: hidden;\n",
       "  padding: 0;\n",
       "  position: absolute;\n",
       "  width: 1px;\n",
       "}\n",
       "\n",
       "#sk-container-id-1 div.sk-dashed-wrapped {\n",
       "  border: 1px dashed var(--sklearn-color-line);\n",
       "  margin: 0 0.4em 0.5em 0.4em;\n",
       "  box-sizing: border-box;\n",
       "  padding-bottom: 0.4em;\n",
       "  background-color: var(--sklearn-color-background);\n",
       "}\n",
       "\n",
       "#sk-container-id-1 div.sk-container {\n",
       "  /* jupyter's `normalize.less` sets `[hidden] { display: none; }`\n",
       "     but bootstrap.min.css set `[hidden] { display: none !important; }`\n",
       "     so we also need the `!important` here to be able to override the\n",
       "     default hidden behavior on the sphinx rendered scikit-learn.org.\n",
       "     See: https://github.com/scikit-learn/scikit-learn/issues/21755 */\n",
       "  display: inline-block !important;\n",
       "  position: relative;\n",
       "}\n",
       "\n",
       "#sk-container-id-1 div.sk-text-repr-fallback {\n",
       "  display: none;\n",
       "}\n",
       "\n",
       "div.sk-parallel-item,\n",
       "div.sk-serial,\n",
       "div.sk-item {\n",
       "  /* draw centered vertical line to link estimators */\n",
       "  background-image: linear-gradient(var(--sklearn-color-text-on-default-background), var(--sklearn-color-text-on-default-background));\n",
       "  background-size: 2px 100%;\n",
       "  background-repeat: no-repeat;\n",
       "  background-position: center center;\n",
       "}\n",
       "\n",
       "/* Parallel-specific style estimator block */\n",
       "\n",
       "#sk-container-id-1 div.sk-parallel-item::after {\n",
       "  content: \"\";\n",
       "  width: 100%;\n",
       "  border-bottom: 2px solid var(--sklearn-color-text-on-default-background);\n",
       "  flex-grow: 1;\n",
       "}\n",
       "\n",
       "#sk-container-id-1 div.sk-parallel {\n",
       "  display: flex;\n",
       "  align-items: stretch;\n",
       "  justify-content: center;\n",
       "  background-color: var(--sklearn-color-background);\n",
       "  position: relative;\n",
       "}\n",
       "\n",
       "#sk-container-id-1 div.sk-parallel-item {\n",
       "  display: flex;\n",
       "  flex-direction: column;\n",
       "}\n",
       "\n",
       "#sk-container-id-1 div.sk-parallel-item:first-child::after {\n",
       "  align-self: flex-end;\n",
       "  width: 50%;\n",
       "}\n",
       "\n",
       "#sk-container-id-1 div.sk-parallel-item:last-child::after {\n",
       "  align-self: flex-start;\n",
       "  width: 50%;\n",
       "}\n",
       "\n",
       "#sk-container-id-1 div.sk-parallel-item:only-child::after {\n",
       "  width: 0;\n",
       "}\n",
       "\n",
       "/* Serial-specific style estimator block */\n",
       "\n",
       "#sk-container-id-1 div.sk-serial {\n",
       "  display: flex;\n",
       "  flex-direction: column;\n",
       "  align-items: center;\n",
       "  background-color: var(--sklearn-color-background);\n",
       "  padding-right: 1em;\n",
       "  padding-left: 1em;\n",
       "}\n",
       "\n",
       "\n",
       "/* Toggleable style: style used for estimator/Pipeline/ColumnTransformer box that is\n",
       "clickable and can be expanded/collapsed.\n",
       "- Pipeline and ColumnTransformer use this feature and define the default style\n",
       "- Estimators will overwrite some part of the style using the `sk-estimator` class\n",
       "*/\n",
       "\n",
       "/* Pipeline and ColumnTransformer style (default) */\n",
       "\n",
       "#sk-container-id-1 div.sk-toggleable {\n",
       "  /* Default theme specific background. It is overwritten whether we have a\n",
       "  specific estimator or a Pipeline/ColumnTransformer */\n",
       "  background-color: var(--sklearn-color-background);\n",
       "}\n",
       "\n",
       "/* Toggleable label */\n",
       "#sk-container-id-1 label.sk-toggleable__label {\n",
       "  cursor: pointer;\n",
       "  display: block;\n",
       "  width: 100%;\n",
       "  margin-bottom: 0;\n",
       "  padding: 0.5em;\n",
       "  box-sizing: border-box;\n",
       "  text-align: center;\n",
       "}\n",
       "\n",
       "#sk-container-id-1 label.sk-toggleable__label-arrow:before {\n",
       "  /* Arrow on the left of the label */\n",
       "  content: \"▸\";\n",
       "  float: left;\n",
       "  margin-right: 0.25em;\n",
       "  color: var(--sklearn-color-icon);\n",
       "}\n",
       "\n",
       "#sk-container-id-1 label.sk-toggleable__label-arrow:hover:before {\n",
       "  color: var(--sklearn-color-text);\n",
       "}\n",
       "\n",
       "/* Toggleable content - dropdown */\n",
       "\n",
       "#sk-container-id-1 div.sk-toggleable__content {\n",
       "  max-height: 0;\n",
       "  max-width: 0;\n",
       "  overflow: hidden;\n",
       "  text-align: left;\n",
       "  /* unfitted */\n",
       "  background-color: var(--sklearn-color-unfitted-level-0);\n",
       "}\n",
       "\n",
       "#sk-container-id-1 div.sk-toggleable__content.fitted {\n",
       "  /* fitted */\n",
       "  background-color: var(--sklearn-color-fitted-level-0);\n",
       "}\n",
       "\n",
       "#sk-container-id-1 div.sk-toggleable__content pre {\n",
       "  margin: 0.2em;\n",
       "  border-radius: 0.25em;\n",
       "  color: var(--sklearn-color-text);\n",
       "  /* unfitted */\n",
       "  background-color: var(--sklearn-color-unfitted-level-0);\n",
       "}\n",
       "\n",
       "#sk-container-id-1 div.sk-toggleable__content.fitted pre {\n",
       "  /* unfitted */\n",
       "  background-color: var(--sklearn-color-fitted-level-0);\n",
       "}\n",
       "\n",
       "#sk-container-id-1 input.sk-toggleable__control:checked~div.sk-toggleable__content {\n",
       "  /* Expand drop-down */\n",
       "  max-height: 200px;\n",
       "  max-width: 100%;\n",
       "  overflow: auto;\n",
       "}\n",
       "\n",
       "#sk-container-id-1 input.sk-toggleable__control:checked~label.sk-toggleable__label-arrow:before {\n",
       "  content: \"▾\";\n",
       "}\n",
       "\n",
       "/* Pipeline/ColumnTransformer-specific style */\n",
       "\n",
       "#sk-container-id-1 div.sk-label input.sk-toggleable__control:checked~label.sk-toggleable__label {\n",
       "  color: var(--sklearn-color-text);\n",
       "  background-color: var(--sklearn-color-unfitted-level-2);\n",
       "}\n",
       "\n",
       "#sk-container-id-1 div.sk-label.fitted input.sk-toggleable__control:checked~label.sk-toggleable__label {\n",
       "  background-color: var(--sklearn-color-fitted-level-2);\n",
       "}\n",
       "\n",
       "/* Estimator-specific style */\n",
       "\n",
       "/* Colorize estimator box */\n",
       "#sk-container-id-1 div.sk-estimator input.sk-toggleable__control:checked~label.sk-toggleable__label {\n",
       "  /* unfitted */\n",
       "  background-color: var(--sklearn-color-unfitted-level-2);\n",
       "}\n",
       "\n",
       "#sk-container-id-1 div.sk-estimator.fitted input.sk-toggleable__control:checked~label.sk-toggleable__label {\n",
       "  /* fitted */\n",
       "  background-color: var(--sklearn-color-fitted-level-2);\n",
       "}\n",
       "\n",
       "#sk-container-id-1 div.sk-label label.sk-toggleable__label,\n",
       "#sk-container-id-1 div.sk-label label {\n",
       "  /* The background is the default theme color */\n",
       "  color: var(--sklearn-color-text-on-default-background);\n",
       "}\n",
       "\n",
       "/* On hover, darken the color of the background */\n",
       "#sk-container-id-1 div.sk-label:hover label.sk-toggleable__label {\n",
       "  color: var(--sklearn-color-text);\n",
       "  background-color: var(--sklearn-color-unfitted-level-2);\n",
       "}\n",
       "\n",
       "/* Label box, darken color on hover, fitted */\n",
       "#sk-container-id-1 div.sk-label.fitted:hover label.sk-toggleable__label.fitted {\n",
       "  color: var(--sklearn-color-text);\n",
       "  background-color: var(--sklearn-color-fitted-level-2);\n",
       "}\n",
       "\n",
       "/* Estimator label */\n",
       "\n",
       "#sk-container-id-1 div.sk-label label {\n",
       "  font-family: monospace;\n",
       "  font-weight: bold;\n",
       "  display: inline-block;\n",
       "  line-height: 1.2em;\n",
       "}\n",
       "\n",
       "#sk-container-id-1 div.sk-label-container {\n",
       "  text-align: center;\n",
       "}\n",
       "\n",
       "/* Estimator-specific */\n",
       "#sk-container-id-1 div.sk-estimator {\n",
       "  font-family: monospace;\n",
       "  border: 1px dotted var(--sklearn-color-border-box);\n",
       "  border-radius: 0.25em;\n",
       "  box-sizing: border-box;\n",
       "  margin-bottom: 0.5em;\n",
       "  /* unfitted */\n",
       "  background-color: var(--sklearn-color-unfitted-level-0);\n",
       "}\n",
       "\n",
       "#sk-container-id-1 div.sk-estimator.fitted {\n",
       "  /* fitted */\n",
       "  background-color: var(--sklearn-color-fitted-level-0);\n",
       "}\n",
       "\n",
       "/* on hover */\n",
       "#sk-container-id-1 div.sk-estimator:hover {\n",
       "  /* unfitted */\n",
       "  background-color: var(--sklearn-color-unfitted-level-2);\n",
       "}\n",
       "\n",
       "#sk-container-id-1 div.sk-estimator.fitted:hover {\n",
       "  /* fitted */\n",
       "  background-color: var(--sklearn-color-fitted-level-2);\n",
       "}\n",
       "\n",
       "/* Specification for estimator info (e.g. \"i\" and \"?\") */\n",
       "\n",
       "/* Common style for \"i\" and \"?\" */\n",
       "\n",
       ".sk-estimator-doc-link,\n",
       "a:link.sk-estimator-doc-link,\n",
       "a:visited.sk-estimator-doc-link {\n",
       "  float: right;\n",
       "  font-size: smaller;\n",
       "  line-height: 1em;\n",
       "  font-family: monospace;\n",
       "  background-color: var(--sklearn-color-background);\n",
       "  border-radius: 1em;\n",
       "  height: 1em;\n",
       "  width: 1em;\n",
       "  text-decoration: none !important;\n",
       "  margin-left: 1ex;\n",
       "  /* unfitted */\n",
       "  border: var(--sklearn-color-unfitted-level-1) 1pt solid;\n",
       "  color: var(--sklearn-color-unfitted-level-1);\n",
       "}\n",
       "\n",
       ".sk-estimator-doc-link.fitted,\n",
       "a:link.sk-estimator-doc-link.fitted,\n",
       "a:visited.sk-estimator-doc-link.fitted {\n",
       "  /* fitted */\n",
       "  border: var(--sklearn-color-fitted-level-1) 1pt solid;\n",
       "  color: var(--sklearn-color-fitted-level-1);\n",
       "}\n",
       "\n",
       "/* On hover */\n",
       "div.sk-estimator:hover .sk-estimator-doc-link:hover,\n",
       ".sk-estimator-doc-link:hover,\n",
       "div.sk-label-container:hover .sk-estimator-doc-link:hover,\n",
       ".sk-estimator-doc-link:hover {\n",
       "  /* unfitted */\n",
       "  background-color: var(--sklearn-color-unfitted-level-3);\n",
       "  color: var(--sklearn-color-background);\n",
       "  text-decoration: none;\n",
       "}\n",
       "\n",
       "div.sk-estimator.fitted:hover .sk-estimator-doc-link.fitted:hover,\n",
       ".sk-estimator-doc-link.fitted:hover,\n",
       "div.sk-label-container:hover .sk-estimator-doc-link.fitted:hover,\n",
       ".sk-estimator-doc-link.fitted:hover {\n",
       "  /* fitted */\n",
       "  background-color: var(--sklearn-color-fitted-level-3);\n",
       "  color: var(--sklearn-color-background);\n",
       "  text-decoration: none;\n",
       "}\n",
       "\n",
       "/* Span, style for the box shown on hovering the info icon */\n",
       ".sk-estimator-doc-link span {\n",
       "  display: none;\n",
       "  z-index: 9999;\n",
       "  position: relative;\n",
       "  font-weight: normal;\n",
       "  right: .2ex;\n",
       "  padding: .5ex;\n",
       "  margin: .5ex;\n",
       "  width: min-content;\n",
       "  min-width: 20ex;\n",
       "  max-width: 50ex;\n",
       "  color: var(--sklearn-color-text);\n",
       "  box-shadow: 2pt 2pt 4pt #999;\n",
       "  /* unfitted */\n",
       "  background: var(--sklearn-color-unfitted-level-0);\n",
       "  border: .5pt solid var(--sklearn-color-unfitted-level-3);\n",
       "}\n",
       "\n",
       ".sk-estimator-doc-link.fitted span {\n",
       "  /* fitted */\n",
       "  background: var(--sklearn-color-fitted-level-0);\n",
       "  border: var(--sklearn-color-fitted-level-3);\n",
       "}\n",
       "\n",
       ".sk-estimator-doc-link:hover span {\n",
       "  display: block;\n",
       "}\n",
       "\n",
       "/* \"?\"-specific style due to the `<a>` HTML tag */\n",
       "\n",
       "#sk-container-id-1 a.estimator_doc_link {\n",
       "  float: right;\n",
       "  font-size: 1rem;\n",
       "  line-height: 1em;\n",
       "  font-family: monospace;\n",
       "  background-color: var(--sklearn-color-background);\n",
       "  border-radius: 1rem;\n",
       "  height: 1rem;\n",
       "  width: 1rem;\n",
       "  text-decoration: none;\n",
       "  /* unfitted */\n",
       "  color: var(--sklearn-color-unfitted-level-1);\n",
       "  border: var(--sklearn-color-unfitted-level-1) 1pt solid;\n",
       "}\n",
       "\n",
       "#sk-container-id-1 a.estimator_doc_link.fitted {\n",
       "  /* fitted */\n",
       "  border: var(--sklearn-color-fitted-level-1) 1pt solid;\n",
       "  color: var(--sklearn-color-fitted-level-1);\n",
       "}\n",
       "\n",
       "/* On hover */\n",
       "#sk-container-id-1 a.estimator_doc_link:hover {\n",
       "  /* unfitted */\n",
       "  background-color: var(--sklearn-color-unfitted-level-3);\n",
       "  color: var(--sklearn-color-background);\n",
       "  text-decoration: none;\n",
       "}\n",
       "\n",
       "#sk-container-id-1 a.estimator_doc_link.fitted:hover {\n",
       "  /* fitted */\n",
       "  background-color: var(--sklearn-color-fitted-level-3);\n",
       "}\n",
       "</style><div id=\"sk-container-id-1\" class=\"sk-top-container\"><div class=\"sk-text-repr-fallback\"><pre>RandomForestClassifier()</pre><b>In a Jupyter environment, please rerun this cell to show the HTML representation or trust the notebook. <br />On GitHub, the HTML representation is unable to render, please try loading this page with nbviewer.org.</b></div><div class=\"sk-container\" hidden><div class=\"sk-item\"><div class=\"sk-estimator fitted sk-toggleable\"><input class=\"sk-toggleable__control sk-hidden--visually\" id=\"sk-estimator-id-1\" type=\"checkbox\" checked><label for=\"sk-estimator-id-1\" class=\"sk-toggleable__label fitted sk-toggleable__label-arrow fitted\">&nbsp;&nbsp;RandomForestClassifier<a class=\"sk-estimator-doc-link fitted\" rel=\"noreferrer\" target=\"_blank\" href=\"https://scikit-learn.org/1.5/modules/generated/sklearn.ensemble.RandomForestClassifier.html\">?<span>Documentation for RandomForestClassifier</span></a><span class=\"sk-estimator-doc-link fitted\">i<span>Fitted</span></span></label><div class=\"sk-toggleable__content fitted\"><pre>RandomForestClassifier()</pre></div> </div></div></div></div>"
      ],
      "text/plain": [
       "RandomForestClassifier()"
      ]
     },
     "execution_count": 10,
     "metadata": {},
     "output_type": "execute_result"
    }
   ],
   "source": [
    "m = RandomForestClassifier(n_estimators=100)\n",
    "m.fit(X_train, y_train)"
   ]
  },
  {
   "cell_type": "code",
   "execution_count": null,
   "metadata": {
    "collapsed": true
   },
   "outputs": [],
   "source": []
  },
  {
   "cell_type": "markdown",
   "metadata": {},
   "source": [
    "# Further experiment"
   ]
  },
  {
   "cell_type": "code",
   "execution_count": null,
   "metadata": {
    "collapsed": false
   },
   "outputs": [],
   "source": [
    "index = int(0.3 * len(data))"
   ]
  },
  {
   "cell_type": "code",
   "execution_count": 13,
   "metadata": {
    "collapsed": false
   },
   "outputs": [],
   "source": [
    "from sklearn.utils import shuffle\n",
    "data = pd.read_csv(\"data/data.csv\",',',error_bad_lines=False)\n",
    "\n",
    "data = shuffle(data)\n",
    "url_train = data['url'][index:].values\n",
    "label_train = data['label'][index:].values\n",
    "url_test = data['url'][:index].values\n",
    "label_test = data['label'][:index].values"
   ]
  },
  {
   "cell_type": "code",
   "execution_count": null,
   "metadata": {
    "collapsed": false
   },
   "outputs": [
    {
     "data": {
      "text/plain": [
       "Pipeline(steps=[('vectorizer', TfidfVectorizer(analyzer='word', binary=False, decode_error='strict',\n",
       "        dtype=<class 'numpy.int64'>, encoding='utf-8', input='content',\n",
       "        lowercase=True, max_df=1.0, max_features=None, min_df=1,\n",
       "        ngram_range=(1, 1), norm='l2', preprocessor=None, smooth_idf=Tr...ty='l2', random_state=None, solver='liblinear', tol=0.0001,\n",
       "          verbose=0, warm_start=False))])"
      ]
     },
     "execution_count": 15,
     "metadata": {},
     "output_type": "execute_result"
    }
   ],
   "source": [
    "from sklearn.pipeline import Pipeline\n",
    "\n",
    "pipeline = Pipeline([\n",
    "        (\"vectorizer\", TfidfVectorizer(tokenizer=getTokens)),\n",
    "        (\"classifier\", LogisticRegression())])\n",
    "\n",
    "times = []\n",
    "accuracy = []\n",
    "\n",
    "train_sizes = np.arange(.1, 1.0, .1)\n",
    "\n",
    "for size in train_sizes:\n",
    "    trainers = int(X_train.shape[0] * size)\n",
    "\n",
    "    X_trainer = X_train[:trainers]\n",
    "    y_trainer = y_train[:trainers]\n",
    "\n",
    "    start = time.time()\n",
    "\n",
    "    pipeline.fit(url_train, label_train)\n",
    "\n",
    "    end = time.time()\n",
    "\n",
    "    y_predict = pipeline.predict(y_test, y_predict)\n",
    "    accuracy_of_section = accuracy_score(y_test, y_predict)\n",
    "\n",
    "    times.append(end-start)\n",
    "    accuracy.append(accuracy_of_section)\n",
    "\n",
    "    print(f\"Size: {size}\\t | Time: {end-start}\\t | Accuracy: {accuracy_of_section}\")\n",
    "\n",
    "plt.title(\"Pipeline\")\n",
    "plt.xlabel(\"Time (seconds)\")\n",
    "plt.ylabel(\"Accuracy\")\n",
    "plt.plot(times, accuracy)\n",
    "plt.show()"
   ]
  },
  {
   "cell_type": "code",
   "execution_count": 16,
   "metadata": {
    "collapsed": false
   },
   "outputs": [
    {
     "data": {
      "text/plain": [
       "0.97097842689687131"
      ]
     },
     "execution_count": 16,
     "metadata": {},
     "output_type": "execute_result"
    }
   ],
   "source": [
    "pipeline.score(url_test, label_test)"
   ]
  },
  {
   "cell_type": "markdown",
   "metadata": {
    "collapsed": false
   },
   "source": [
    "I have stopped working on this. You may want to use advanced methods to achieve higher accuracy(i.e LSTM). Also, a very critical part here is the feature engineering. Simlpy taking input URL as an input is not a good idea. We may find other features,which are more useful than only URL string, from host info, ip, or page content."
   ]
  },
  {
   "cell_type": "code",
   "execution_count": null,
   "metadata": {
    "collapsed": true
   },
   "outputs": [],
   "source": []
  }
 ],
 "metadata": {
  "kernelspec": {
   "display_name": "Python 3",
   "language": "python",
   "name": "python3"
  },
  "language_info": {
   "codemirror_mode": {
    "name": "ipython",
    "version": 3
   },
   "file_extension": ".py",
   "mimetype": "text/x-python",
   "name": "python",
   "nbconvert_exporter": "python",
   "pygments_lexer": "ipython3",
   "version": "3.12.1"
  }
 },
 "nbformat": 4,
 "nbformat_minor": 2
}
