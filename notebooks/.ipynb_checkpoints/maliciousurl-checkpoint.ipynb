{
 "cells": [
  {
   "cell_type": "markdown",
   "metadata": {},
   "source": [
    "# Import Dependencies"
   ]
  },
  {
   "cell_type": "code",
   "execution_count": 10,
   "metadata": {
    "collapsed": false
   },
   "outputs": [],
   "source": [
    "\n",
    "import pandas as pd\n",
    "import numpy as np\n",
    "from sklearn.feature_extraction.text import TfidfVectorizer\n",
    "import joblib\n",
    "import re\n",
    "import random\n",
    "from sklearn.metrics import accuracy_score\n",
    "from zeus.monitor import ZeusMonitor\n",
    "\n",
    "\n",
    "from sklearn.linear_model import LogisticRegression\n",
    "from sklearn.model_selection import train_test_split"
   ]
  },
  {
   "cell_type": "code",
   "execution_count": 3,
   "metadata": {
    "collapsed": true
   },
   "outputs": [],
   "source": [
    "#this function is taken from https://github.com/faizann24/Using-machine-learning-to-detect-malicious-URLs\n",
    "def getTokens(input):\n",
    "    tokensBySlash = str(input.encode('utf-8')).split('/')\n",
    "#    print(f\".encode(utf-8).split('/'){tokensBySlash}\")\n",
    "    allTokens = []\n",
    "    for i in tokensBySlash:\n",
    "        tokens = str(i).split('-')\n",
    "        tokensByDot = []\n",
    "        for j in range(0,len(tokens)):\n",
    "            tempTokens = str(tokens[j]).split('.')\n",
    "            tokensByDot = tokensByDot + tempTokens\n",
    "        allTokens = allTokens + tokens + tokensByDot\n",
    "    allTokens = list(set(allTokens))\n",
    "    if 'com' in allTokens:\n",
    "        allTokens.remove('com')\n",
    "    return allTokens\n",
    "\n",
    "#function to remove \"http://\" from URL\n",
    "def trim(url):\n",
    "    return re.match(r'(?:\\w*://)?(?:.*\\.)?([a-zA-Z-1-9]*\\.[a-zA-Z]{1,}).*', url).groups()[0]"
   ]
  },
  {
   "cell_type": "markdown",
   "metadata": {},
   "source": [
    "# Prepare Dataset"
   ]
  },
  {
   "cell_type": "code",
   "execution_count": 4,
   "metadata": {
    "collapsed": false
   },
   "outputs": [
    {
     "data": {
      "text/plain": [
       "array(['diaryofagameaddict.com', 'espdesign.com.au', 'iamagameaddict.com',\n",
       "       ..., 'owens.edu/news-releases/?p=2052',\n",
       "       '1.safesecureweb.com/egale/index.asp?item=1173',\n",
       "       'yurika.otakuthon.com/reg/main.pl/en/'],\n",
       "      shape=(388447,), dtype=object)"
      ]
     },
     "execution_count": 4,
     "metadata": {},
     "output_type": "execute_result"
    }
   ],
   "source": [
    "#read from a \n",
    "#original code:\n",
    "# data = pd.read_csv(\"../data/dataNN.csv\",',',error_bad_lines=False)\t#reading file\n",
    "data = pd.read_csv(\"/workspaces/Malicious-URL-Detection-using-Machine-Learning/data/dataNN.csv\",on_bad_lines='skip')\t#reading file\n",
    "data['url'].values"
   ]
  },
  {
   "cell_type": "code",
   "execution_count": 17,
   "metadata": {
    "collapsed": false
   },
   "outputs": [
    {
     "data": {
      "text/plain": [
       "388447"
      ]
     },
     "execution_count": 17,
     "metadata": {},
     "output_type": "execute_result"
    }
   ],
   "source": [
    "len(data)"
   ]
  },
  {
   "cell_type": "code",
   "execution_count": null,
   "metadata": {
    "collapsed": false
   },
   "outputs": [],
   "source": []
  },
  {
   "cell_type": "code",
   "execution_count": null,
   "metadata": {
    "collapsed": true
   },
   "outputs": [],
   "source": []
  },
  {
   "cell_type": "code",
   "execution_count": null,
   "metadata": {
    "collapsed": true
   },
   "outputs": [],
   "source": []
  },
  {
   "cell_type": "code",
   "execution_count": 5,
   "metadata": {
    "collapsed": false
   },
   "outputs": [],
   "source": [
    "#convert it into numpy array and shuffle the dataset\n",
    "data = np.array(data)\n",
    "random.shuffle(data)\n"
   ]
  },
  {
   "cell_type": "code",
   "execution_count": null,
   "metadata": {
    "collapsed": false
   },
   "outputs": [],
   "source": []
  },
  {
   "cell_type": "code",
   "execution_count": 6,
   "metadata": {
    "collapsed": false
   },
   "outputs": [
    {
     "name": "stderr",
     "output_type": "stream",
     "text": [
      "/home/codespace/.local/lib/python3.12/site-packages/sklearn/feature_extraction/text.py:517: UserWarning: The parameter 'token_pattern' will not be used since 'tokenizer' is not None'\n",
      "  warnings.warn(\n"
     ]
    }
   ],
   "source": [
    "#convert text data into numerical data for machine learning models\n",
    "y = [d[1] for d in data]\n",
    "corpus = [d[0] for d in data]\n",
    "vectorizer = TfidfVectorizer(tokenizer=getTokens)\n",
    "X = vectorizer.fit_transform(corpus)\n",
    "\n"
   ]
  },
  {
   "cell_type": "code",
   "execution_count": 7,
   "metadata": {
    "collapsed": false
   },
   "outputs": [],
   "source": [
    "#split the data set inot train and test\n",
    "X_train, X_test, y_train, y_test = train_test_split(X, y, test_size=0.2, random_state=42)\n"
   ]
  },
  {
   "cell_type": "markdown",
   "metadata": {},
   "source": [
    "# Train Machine Learning Models "
   ]
  },
  {
   "cell_type": "code",
   "execution_count": null,
   "metadata": {
    "collapsed": false
   },
   "outputs": [
    {
     "name": "stderr",
     "output_type": "stream",
     "text": [
      "[codecarbon DEBUG @ 20:26:27] Lock file /tmp/.codecarbon.lock already exists. This usually means another instance of codecarbon is running. You can safely delete it if you want or use allow_multiple_runs parameter to always bypass it.\n",
      "[codecarbon ERROR @ 20:26:27] Error: Another instance of codecarbon is probably running as we find `/tmp/.codecarbon.lock`. Turn off the other instance to be able to run this one or use `allow_multiple_runs` or delete the file. Exiting.\n",
      "[codecarbon WARNING @ 20:26:27] Another instance of codecarbon is already running. Exiting.\n"
     ]
    },
    {
     "name": "stdout",
     "output_type": "stream",
     "text": [
      "Size: 0.1\t | Time: 2.112597703933716\t | Accuracy: 0.9242502252542155\t\n",
      "Size: 0.2\t | Time: 3.524077892303467\t | Accuracy: 0.9470330801905007\t\n",
      "Size: 0.30000000000000004\t | Time: 5.082989692687988\t | Accuracy: 0.95627493885957\t\n",
      "Size: 0.4\t | Time: 5.5190324783325195\t | Accuracy: 0.9656583858926503\t\n",
      "Size: 0.5\t | Time: 6.311269283294678\t | Accuracy: 0.970742695327584\t\n",
      "Size: 0.6\t | Time: 6.347239017486572\t | Accuracy: 0.9732784142103231\t\n",
      "Size: 0.7000000000000001\t | Time: 7.08165168762207\t | Accuracy: 0.9755953147123182\t\n",
      "Size: 0.8\t | Time: 7.677660226821899\t | Accuracy: 0.9788775904234779\t\n",
      "Size: 0.9\t | Time: 5.504863500595093\t | Accuracy: 0.9807568541639851\t\n",
      "Size: 1.0\t | Time: 7.346916437149048\t | Accuracy: 0.9822628394902819\t\n"
     ]
    },
    {
     "data": {
      "image/png": "[encoded data removed]",
      "text/plain": [
       "<Figure size 640x480 with 1 Axes>"
      ]
     },
     "metadata": {},
     "output_type": "display_data"
    },
    {
     "name": "stderr",
     "output_type": "stream",
     "text": [
      "[codecarbon WARNING @ 20:27:24] Another instance of codecarbon is already running. Exiting.\n"
     ]
    }
   ],
   "source": [
    "# 11/17 - 11/23 \n",
    "# I used the dataNN.csv data created by savan77\n",
    "\n",
    "#1 - Logistic Regression\n",
    "import time\n",
    "import matplotlib.pyplot as plt\n",
    "from codecarbon import EmissionsTracker\n",
    "\n",
    "\n",
    "\n",
    "tracker = EmissionsTracker()\n",
    "model = LogisticRegression(C=1)\n",
    "tracker.start()\n",
    "#@track_emissions(\n",
    "#    measure_power_secs=2,\n",
    "#    api_call_interval=2,\n",
    "#    api_key=\"\",\n",
    "#    save_to_api=True,\n",
    "#)\n",
    "#def train_model():\n",
    "times = []\n",
    "accuracy = []\n",
    "\n",
    "train_sizes = np.arange(0.1, 1.1, 0.1)\n",
    "\n",
    "for size in train_sizes:\n",
    "    trainers = int(X_train.shape[0] * size)\n",
    "\n",
    "    X_trainer = X_train[:trainers]\n",
    "    y_trainer = y_train[:trainers]\n",
    "\n",
    "    start = time.time()\n",
    "\n",
    "    model.fit(X_trainer, y_trainer)\n",
    "\n",
    "    end = time.time()\n",
    "    y_predict = model.predict(X_test)\n",
    "\n",
    "    accuracy_of_section = accuracy_score(y_test, y_predict)\n",
    "\n",
    "    times.append(end-start)\n",
    "    accuracy.append(accuracy_of_section)\n",
    "\n",
    "    print(f\"Size: {size}\\t | Time: {end-start}\\t | Accuracy: {accuracy_of_section}\\t\")\n",
    "\n",
    "\n",
    "plt.title(\"Logistic Regression\")\n",
    "plt.xlabel(\"Time (seconds)\")\n",
    "plt.ylabel(\"Accuracy\")\n",
    "plt.scatter(times, accuracy)\n",
    "plt.show()\n",
    "tracker.stop()\n",
    "del tracker\n",
    "#if __name__ == \"__main__\":\n",
    "#    logger.setLevel(logging.DEBUG)\n",
    "#    fh = logging.FileHandler(\"codecarbon.log\")\n",
    "#    fh.setLevel(logging.DEBUG)\n",
    "#    formatter = logging.Formatter(\n",
    "#        \"%(asctime)s - %(name)-12s: %(levelname)-8s %(message)s\"\n",
    "#    )\n",
    "#    fh.setFormatter(formatter)\n",
    "#    logger.addHandler(fh)\n",
    "#    logger.debug(\"GO!\")\n",
    "#    model = train_model()\n",
    "#    logger.debug(\"THE END!\")\n"
   ]
  },
  {
   "cell_type": "code",
   "execution_count": 10,
   "metadata": {
    "collapsed": false
   },
   "outputs": [
    {
     "name": "stdout",
     "output_type": "stream",
     "text": [
      "0.982558887887759\n"
     ]
    }
   ],
   "source": [
    "print(model.score(X_test,y_test))"
   ]
  },
  {
   "cell_type": "code",
   "execution_count": 11,
   "metadata": {
    "collapsed": false
   },
   "outputs": [
    {
     "data": {
      "text/plain": [
       "['vectorizer1.pkl']"
      ]
     },
     "execution_count": 11,
     "metadata": {},
     "output_type": "execute_result"
    }
   ],
   "source": [
    "#save the model and vectorizer\n",
    "joblib.dump(model, \"mal-logireg1.pkl\", protocol=2)\n",
    "joblib.dump(vectorizer, \"vectorizer1.pkl\", protocol=2)"
   ]
  },
  {
   "cell_type": "code",
   "execution_count": 12,
   "metadata": {
    "collapsed": false
   },
   "outputs": [
    {
     "data": {
      "text/plain": [
       "np.int64(0)"
      ]
     },
     "execution_count": 12,
     "metadata": {},
     "output_type": "execute_result"
    }
   ],
   "source": [
    "#make prediction\n",
    "a = \"http://www.savanvisalpara.com\"\n",
    "aa = vectorizer.transform([trim(a)])\n",
    "s = model.predict(aa)\n",
    "s[0] #0 for good"
   ]
  },
  {
   "cell_type": "code",
   "execution_count": 7,
   "metadata": {
    "collapsed": false
   },
   "outputs": [
    {
     "name": "stdout",
     "output_type": "stream",
     "text": [
      "Size: 0.1\t | Time: 133.011901140213\t | Accuracy: 0.9488866005920968\n",
      "Size: 0.2\t | Time: 443.98284554481506\t | Accuracy: 0.9698802934740636\n",
      "Size: 0.30000000000000004\t | Time: 973.3701732158661\t | Accuracy: 0.9799845539966534\n",
      "Size: 0.4\t | Time: 1270.7810804843903\t | Accuracy: 0.9863689020465954\n",
      "Size: 0.5\t | Time: 2181.952887058258\t | Accuracy: 0.9899343544857768\n",
      "Size: 0.6\t | Time: 3363.401368379593\t | Accuracy: 0.9920839232848501\n",
      "Size: 0.7000000000000001\t | Time: 4005.2927384376526\t | Accuracy: 0.993860213669713\n",
      "Size: 0.8\t | Time: 5738.216026067734\t | Accuracy: 0.9951731239541769\n",
      "Size: 0.9\t | Time: 7504.6832456588745\t | Accuracy: 0.9964216758913631\n",
      "Size: 1.0\t | Time: 8289.177054405212\t | Accuracy: 0.9971038743725061\n"
     ]
    },
    {
     "data": {
      "image/png": "[encoded data removed]",
      "text/plain": [
       "<Figure size 640x480 with 1 Axes>"
      ]
     },
     "metadata": {},
     "output_type": "display_data"
    }
   ],
   "source": [
    "# 1/12 - 1/18\n",
    "# I used the dataNN.csv data created by savan77\n",
    "\n",
    "#2 - SVM\n",
    "import time\n",
    "from sklearn.svm import SVC\n",
    "import matplotlib.pyplot as plt\n",
    "#from sklearn import svm\n",
    "svcModel = SVC()\n",
    "\n",
    "times = []\n",
    "accuracy = []\n",
    "\n",
    "train_sizes = np.arange(.1, 1.1, .1)\n",
    "\n",
    "for size in train_sizes:\n",
    "    trainers = int(X_train.shape[0] * size)\n",
    "\n",
    "    X_trainer = X_train[:trainers]\n",
    "    y_trainer = y_train[:trainers]\n",
    "    \n",
    "    start = time.time()\n",
    "\n",
    "    svcModel.fit(X_trainer, y_trainer)\n",
    "\n",
    "    end = time.time()\n",
    "\n",
    "    y_predict = svcModel.predict(X_test)\n",
    "    accuracy_of_section = accuracy_score(y_test, y_predict)\n",
    "\n",
    "    times.append(end-start)\n",
    "    accuracy.append(accuracy_of_section)\n",
    "\n",
    "    print(f\"Size: {size}\\t | Time: {end-start}\\t | Accuracy: {accuracy_of_section}\")\n",
    "\n",
    "plt.title(\"SVC Model\")\n",
    "plt.xlabel(\"Time (seconds)\")\n",
    "plt.ylabel(\"Accuracy\")\n",
    "plt.scatter(times, accuracy)\n",
    "plt.show()\n",
    "\n",
    "#svcModel.fit(X_train, y_train)\n",
    "#lsvcModel = svm.LinearSVC.fit(X_train, y_train)"
   ]
  },
  {
   "cell_type": "code",
   "execution_count": null,
   "metadata": {},
   "outputs": [
    {
     "name": "stdout",
     "output_type": "stream",
     "text": [
      "Size: 0.01\t | Time: 0.00904393196105957\t | Accuracy: 0.8892264126657228\n",
      "Size: 0.02\t | Time: 0.013651609420776367\t | Accuracy: 0.9123439310078517\n",
      "Size: 0.03\t | Time: 0.0202634334564209\t | Accuracy: 0.9226283949028189\n",
      "Size: 0.04\t | Time: 0.025228023529052734\t | Accuracy: 0.9329772171450638\n",
      "Size: 0.05\t | Time: 0.03279876708984375\t | Accuracy: 0.9397477152786716\n",
      "Size: 0.060000000000000005\t | Time: 0.03620147705078125\t | Accuracy: 0.945140944780538\n",
      "Size: 0.06999999999999999\t | Time: 0.04315328598022461\t | Accuracy: 0.9500707941820054\n",
      "Size: 0.08\t | Time: 0.047616004943847656\t | Accuracy: 0.954151113399408\n",
      "Size: 0.09\t | Time: 0.053503990173339844\t | Accuracy: 0.9568026773072468\n",
      "Size: 0.09999999999999999\t | Time: 0.0589144229888916\t | Accuracy: 0.9596601879263741\n",
      "Size: 0.11\t | Time: 0.06260561943054199\t | Accuracy: 0.9619770884283692\n",
      "Size: 0.12\t | Time: 0.06755495071411133\t | Accuracy: 0.964409833955464\n",
      "Size: 0.13\t | Time: 0.07236933708190918\t | Accuracy: 0.9661088943235938\n",
      "Size: 0.14\t | Time: 0.0783989429473877\t | Accuracy: 0.9676921096666238\n",
      "Size: 0.15000000000000002\t | Time: 0.08392047882080078\t | Accuracy: 0.9684644098339554\n",
      "Size: 0.16\t | Time: 0.08724117279052734\t | Accuracy: 0.9700733685158965\n",
      "Size: 0.17\t | Time: 0.0925135612487793\t | Accuracy: 0.971669455528382\n",
      "Size: 0.18000000000000002\t | Time: 0.09937787055969238\t | Accuracy: 0.9733299008881452\n",
      "Size: 0.19\t | Time: 0.10252618789672852\t | Accuracy: 0.9744111211224096\n",
      "Size: 0.2\t | Time: 0.10878276824951172\t | Accuracy: 0.9754794696872184\n",
      "Size: 0.21000000000000002\t | Time: 0.12396669387817383\t | Accuracy: 0.9768052516411379\n",
      "Size: 0.22\t | Time: 0.1584787368774414\t | Accuracy: 0.9779250868837688\n",
      "Size: 0.23\t | Time: 0.15619564056396484\t | Accuracy: 0.9785429270176342\n",
      "Size: 0.24000000000000002\t | Time: 0.13166141510009766\t | Accuracy: 0.9793924572016991\n",
      "Size: 0.25\t | Time: 0.1512279510498047\t | Accuracy: 0.9803320890719527\n",
      "Size: 0.26\t | Time: 0.13886117935180664\t | Accuracy: 0.9808984425279959\n",
      "Size: 0.27\t | Time: 0.14717745780944824\t | Accuracy: 0.9813103359505728\n",
      "Size: 0.28\t | Time: 0.1500382423400879\t | Accuracy: 0.9817865877204274\n",
      "Size: 0.29000000000000004\t | Time: 0.15877890586853027\t | Accuracy: 0.9824301711932037\n",
      "Size: 0.3\t | Time: 0.17385244369506836\t | Accuracy: 0.9830866263354358\n",
      "Size: 0.31\t | Time: 0.1736605167388916\t | Accuracy: 0.9835371347663792\n",
      "Size: 0.32\t | Time: 0.19289350509643555\t | Accuracy: 0.9842322049169777\n",
      "Size: 0.33\t | Time: 0.23596549034118652\t | Accuracy: 0.9846955850173768\n",
      "Size: 0.34\t | Time: 0.21828722953796387\t | Accuracy: 0.9850559917621315\n",
      "Size: 0.35000000000000003\t | Time: 0.2545754909515381\t | Accuracy: 0.9855708585403526\n",
      "Size: 0.36000000000000004\t | Time: 0.21438360214233398\t | Accuracy: 0.9861758270047625\n",
      "Size: 0.37\t | Time: 0.21854114532470703\t | Accuracy: 0.9865748487578839\n",
      "Size: 0.38\t | Time: 0.23961329460144043\t | Accuracy: 0.9868580254859055\n",
      "Size: 0.39\t | Time: 0.2456798553466797\t | Accuracy: 0.987308533916849\n",
      "Size: 0.4\t | Time: 0.24818038940429688\t | Accuracy: 0.9877847856867036\n",
      "Size: 0.41000000000000003\t | Time: 0.28742361068725586\t | Accuracy: 0.9883382674732912\n",
      "Size: 0.42000000000000004\t | Time: 0.2795107364654541\t | Accuracy: 0.9888531342515124\n",
      "Size: 0.43\t | Time: 0.31095457077026367\t | Accuracy: 0.9891749259879006\n",
      "Size: 0.44\t | Time: 0.29050493240356445\t | Accuracy: 0.9896125627493886\n",
      "Size: 0.45\t | Time: 0.3293125629425049\t | Accuracy: 0.9899086111468658\n",
      "Size: 0.46\t | Time: 0.3612687587738037\t | Accuracy: 0.9902432745527094\n",
      "Size: 0.47000000000000003\t | Time: 0.3446085453033447\t | Accuracy: 0.9905521946196422\n",
      "Size: 0.48000000000000004\t | Time: 0.35329174995422363\t | Accuracy: 0.9908096280087527\n",
      "Size: 0.49\t | Time: 0.3694026470184326\t | Accuracy: 0.9911700347535075\n",
      "Size: 0.5\t | Time: 0.3647575378417969\t | Accuracy: 0.9914274681426181\n",
      "Size: 0.51\t | Time: 0.5038156509399414\t | Accuracy: 0.9917878748873729\n",
      "Size: 0.52\t | Time: 0.4465935230255127\t | Accuracy: 0.9920324366070279\n",
      "Size: 0.53\t | Time: 0.44698452949523926\t | Accuracy: 0.9921611533015832\n",
      "Size: 0.54\t | Time: 0.46846508979797363\t | Accuracy: 0.9923542283434161\n",
      "Size: 0.55\t | Time: 0.44996142387390137\t | Accuracy: 0.9927146350881709\n",
      "Size: 0.56\t | Time: 0.500737190246582\t | Accuracy: 0.9927275067576264\n",
      "Size: 0.5700000000000001\t | Time: 0.6227946281433105\t | Accuracy: 0.9928562234521817\n",
      "Size: 0.5800000000000001\t | Time: 0.4990720748901367\t | Accuracy: 0.9930235551551037\n",
      "Size: 0.59\t | Time: 0.5224792957305908\t | Accuracy: 0.9932552452053032\n",
      "Size: 0.6\t | Time: 0.5747199058532715\t | Accuracy: 0.9933710902304029\n",
      "Size: 0.61\t | Time: 0.59523606300354\t | Accuracy: 0.9936285236195135\n",
      "Size: 0.62\t | Time: 0.5721628665924072\t | Accuracy: 0.993885957008624\n",
      "Size: 0.63\t | Time: 0.6083743572235107\t | Accuracy: 0.9940146737031793\n",
      "Size: 0.64\t | Time: 0.6386513710021973\t | Accuracy: 0.9941176470588236\n",
      "Size: 0.65\t | Time: 0.6495139598846436\t | Accuracy: 0.9942978504312009\n",
      "Size: 0.66\t | Time: 0.7073853015899658\t | Accuracy: 0.9944909254730339\n",
      "Size: 0.67\t | Time: 0.6405336856842041\t | Accuracy: 0.9947354871926889\n",
      "Size: 0.68\t | Time: 0.6768455505371094\t | Accuracy: 0.994786973870511\n",
      "Size: 0.6900000000000001\t | Time: 0.715548038482666\t | Accuracy: 0.9949156905650662\n",
      "Size: 0.7000000000000001\t | Time: 0.6926219463348389\t | Accuracy: 0.9951087656068992\n",
      "Size: 0.7100000000000001\t | Time: 0.7132749557495117\t | Accuracy: 0.9952117389625434\n",
      "Size: 0.72\t | Time: 0.815781831741333\t | Accuracy: 0.9952889689792767\n",
      "Size: 0.73\t | Time: 0.7455074787139893\t | Accuracy: 0.9954305573432874\n",
      "Size: 0.74\t | Time: 0.733375072479248\t | Accuracy: 0.9955978890462093\n",
      "Size: 0.75\t | Time: 0.759772539138794\t | Accuracy: 0.9957008624018535\n",
      "Size: 0.76\t | Time: 0.8292520046234131\t | Accuracy: 0.9957909640880422\n",
      "Size: 0.77\t | Time: 0.7334132194519043\t | Accuracy: 0.9958939374436865\n",
      "Size: 0.78\t | Time: 0.8237390518188477\t | Accuracy: 0.9958939374436865\n",
      "Size: 0.79\t | Time: 0.7758386135101318\t | Accuracy: 0.9960097824687862\n",
      "Size: 0.8\t | Time: 0.7765214443206787\t | Accuracy: 0.9960612691466083\n",
      "Size: 0.81\t | Time: 0.9397244453430176\t | Accuracy: 0.9961771141717081\n",
      "Size: 0.8200000000000001\t | Time: 0.8665626049041748\t | Accuracy: 0.9962929591968078\n",
      "Size: 0.8300000000000001\t | Time: 0.8829748630523682\t | Accuracy: 0.9964345475608186\n",
      "Size: 0.8400000000000001\t | Time: 1.0623369216918945\t | Accuracy: 0.9965632642553739\n",
      "Size: 0.85\t | Time: 0.9455687999725342\t | Accuracy: 0.9965890075942849\n",
      "Size: 0.86\t | Time: 1.009397268295288\t | Accuracy: 0.9965890075942849\n",
      "Size: 0.87\t | Time: 1.0150439739227295\t | Accuracy: 0.9966662376110181\n",
      "Size: 0.88\t | Time: 0.9477236270904541\t | Accuracy: 0.9967563392972069\n",
      "Size: 0.89\t | Time: 1.157824993133545\t | Accuracy: 0.9967949543055734\n",
      "Size: 0.9\t | Time: 1.172886610031128\t | Accuracy: 0.9968721843223066\n",
      "Size: 0.91\t | Time: 1.3218140602111816\t | Accuracy: 0.9970266443557729\n",
      "Size: 0.92\t | Time: 1.1776340007781982\t | Accuracy: 0.9970652593641395\n",
      "Size: 0.93\t | Time: 1.7130231857299805\t | Accuracy: 0.9971682327197837\n",
      "Size: 0.9400000000000001\t | Time: 1.5684638023376465\t | Accuracy: 0.9971939760586949\n",
      "Size: 0.9500000000000001\t | Time: 1.562807559967041\t | Accuracy: 0.9972454627365169\n",
      "Size: 0.9600000000000001\t | Time: 1.569697618484497\t | Accuracy: 0.997271206075428\n",
      "Size: 0.97\t | Time: 1.590721607208252\t | Accuracy: 0.9973484360921612\n",
      "Size: 0.98\t | Time: 1.5634739398956299\t | Accuracy: 0.9973999227699832\n",
      "Size: 0.99\t | Time: 1.6210923194885254\t | Accuracy: 0.9974256661088943\n",
      "Size: 1.0\t | Time: 1.4410984516143799\t | Accuracy: 0.9975028961256275\n"
     ]
    },
    {
     "data": {
      "image/png": "[encoded data removed]",
      "text/plain": [
       "<Figure size 640x480 with 1 Axes>"
      ]
     },
     "metadata": {},
     "output_type": "display_data"
    }
   ],
   "source": [
    "# 11/17 - 11/23 \n",
    "# I used the dataNN.csv data created by savan77\n",
    "\n",
    "from sklearn import svm\n",
    "\n",
    "lsvcModel = svm.LinearSVC()\n",
    "\n",
    "times = []\n",
    "accuracy = []\n",
    "\n",
    "train_sizes = np.arange(.01, 1.01, .01)\n",
    "\n",
    "for size in train_sizes:\n",
    "    trainers = int(X_train.shape[0] * size)\n",
    "\n",
    "    X_trainer = X_train[:trainers]\n",
    "    y_trainer = y_train[:trainers]\n",
    "\n",
    "    start = time.time()\n",
    "    \n",
    "    lsvcModel.fit(X_trainer, y_trainer)\n",
    "\n",
    "    end = time.time()\n",
    "\n",
    "    accuracy_of_section = lsvcModel.score(X_test, y_test)\n",
    "\n",
    "    times.append(end-start)\n",
    "    accuracy.append(accuracy_of_section)\n",
    "\n",
    "    print(f\"Size: {size}\\t | Time: {end-start}\\t | Accuracy: {accuracy_of_section}\")\n",
    "\n",
    "plt.title(\"LSVC Model\")\n",
    "plt.xlabel(\"Times (seconds)\")\n",
    "plt.ylabel(\"Accuracy\")\n",
    "plt.scatter(times, accuracy)\n",
    "plt.show()"
   ]
  },
  {
   "cell_type": "code",
   "execution_count": null,
   "metadata": {
    "collapsed": false
   },
   "outputs": [],
   "source": [
    "svcModel.score(X_test, y_test)"
   ]
  },
  {
   "cell_type": "code",
   "execution_count": 18,
   "metadata": {
    "collapsed": true
   },
   "outputs": [
    {
     "name": "stdout",
     "output_type": "stream",
     "text": [
      "Size: 0.1\t | Time: 306.01935267448425\t | Accuracy: 0.9528896897927661\n",
      "Size: 0.2\t | Time: 645.5666208267212\t | Accuracy: 0.9692367100012872\n",
      "Size: 0.30000000000000004\t | Time: 1015.8504943847656\t | Accuracy: 0.977538936800103\n"
     ]
    },
    {
     "ename": "KeyboardInterrupt",
     "evalue": "",
     "output_type": "error",
     "traceback": [
      "\u001b[0;31m---------------------------------------------------------------------------\u001b[0m",
      "\u001b[0;31mKeyboardInterrupt\u001b[0m                         Traceback (most recent call last)",
      "Cell \u001b[0;32mIn[18], line 23\u001b[0m\n\u001b[1;32m     19\u001b[0m y_trainer \u001b[38;5;241m=\u001b[39m y_train[:trainers]\n\u001b[1;32m     21\u001b[0m start \u001b[38;5;241m=\u001b[39m time\u001b[38;5;241m.\u001b[39mtime()\n\u001b[0;32m---> 23\u001b[0m \u001b[43mm\u001b[49m\u001b[38;5;241;43m.\u001b[39;49m\u001b[43mfit\u001b[49m\u001b[43m(\u001b[49m\u001b[43mX_trainer\u001b[49m\u001b[43m,\u001b[49m\u001b[43m \u001b[49m\u001b[43my_trainer\u001b[49m\u001b[43m)\u001b[49m\n\u001b[1;32m     25\u001b[0m end \u001b[38;5;241m=\u001b[39m time\u001b[38;5;241m.\u001b[39mtime()\n\u001b[1;32m     27\u001b[0m accuracy_of_section \u001b[38;5;241m=\u001b[39m m\u001b[38;5;241m.\u001b[39mscore(X_test, y_test)\n",
      "File \u001b[0;32m~/.local/lib/python3.12/site-packages/sklearn/base.py:1389\u001b[0m, in \u001b[0;36m_fit_context.<locals>.decorator.<locals>.wrapper\u001b[0;34m(estimator, *args, **kwargs)\u001b[0m\n\u001b[1;32m   1382\u001b[0m     estimator\u001b[38;5;241m.\u001b[39m_validate_params()\n\u001b[1;32m   1384\u001b[0m \u001b[38;5;28;01mwith\u001b[39;00m config_context(\n\u001b[1;32m   1385\u001b[0m     skip_parameter_validation\u001b[38;5;241m=\u001b[39m(\n\u001b[1;32m   1386\u001b[0m         prefer_skip_nested_validation \u001b[38;5;129;01mor\u001b[39;00m global_skip_validation\n\u001b[1;32m   1387\u001b[0m     )\n\u001b[1;32m   1388\u001b[0m ):\n\u001b[0;32m-> 1389\u001b[0m     \u001b[38;5;28;01mreturn\u001b[39;00m \u001b[43mfit_method\u001b[49m\u001b[43m(\u001b[49m\u001b[43mestimator\u001b[49m\u001b[43m,\u001b[49m\u001b[43m \u001b[49m\u001b[38;5;241;43m*\u001b[39;49m\u001b[43margs\u001b[49m\u001b[43m,\u001b[49m\u001b[43m \u001b[49m\u001b[38;5;241;43m*\u001b[39;49m\u001b[38;5;241;43m*\u001b[39;49m\u001b[43mkwargs\u001b[49m\u001b[43m)\u001b[49m\n",
      "File \u001b[0;32m~/.local/lib/python3.12/site-packages/sklearn/ensemble/_forest.py:487\u001b[0m, in \u001b[0;36mBaseForest.fit\u001b[0;34m(self, X, y, sample_weight)\u001b[0m\n\u001b[1;32m    476\u001b[0m trees \u001b[38;5;241m=\u001b[39m [\n\u001b[1;32m    477\u001b[0m     \u001b[38;5;28mself\u001b[39m\u001b[38;5;241m.\u001b[39m_make_estimator(append\u001b[38;5;241m=\u001b[39m\u001b[38;5;28;01mFalse\u001b[39;00m, random_state\u001b[38;5;241m=\u001b[39mrandom_state)\n\u001b[1;32m    478\u001b[0m     \u001b[38;5;28;01mfor\u001b[39;00m i \u001b[38;5;129;01min\u001b[39;00m \u001b[38;5;28mrange\u001b[39m(n_more_estimators)\n\u001b[1;32m    479\u001b[0m ]\n\u001b[1;32m    481\u001b[0m \u001b[38;5;66;03m# Parallel loop: we prefer the threading backend as the Cython code\u001b[39;00m\n\u001b[1;32m    482\u001b[0m \u001b[38;5;66;03m# for fitting the trees is internally releasing the Python GIL\u001b[39;00m\n\u001b[1;32m    483\u001b[0m \u001b[38;5;66;03m# making threading more efficient than multiprocessing in\u001b[39;00m\n\u001b[1;32m    484\u001b[0m \u001b[38;5;66;03m# that case. However, for joblib 0.12+ we respect any\u001b[39;00m\n\u001b[1;32m    485\u001b[0m \u001b[38;5;66;03m# parallel_backend contexts set at a higher level,\u001b[39;00m\n\u001b[1;32m    486\u001b[0m \u001b[38;5;66;03m# since correctness does not rely on using threads.\u001b[39;00m\n\u001b[0;32m--> 487\u001b[0m trees \u001b[38;5;241m=\u001b[39m \u001b[43mParallel\u001b[49m\u001b[43m(\u001b[49m\n\u001b[1;32m    488\u001b[0m \u001b[43m    \u001b[49m\u001b[43mn_jobs\u001b[49m\u001b[38;5;241;43m=\u001b[39;49m\u001b[38;5;28;43mself\u001b[39;49m\u001b[38;5;241;43m.\u001b[39;49m\u001b[43mn_jobs\u001b[49m\u001b[43m,\u001b[49m\n\u001b[1;32m    489\u001b[0m \u001b[43m    \u001b[49m\u001b[43mverbose\u001b[49m\u001b[38;5;241;43m=\u001b[39;49m\u001b[38;5;28;43mself\u001b[39;49m\u001b[38;5;241;43m.\u001b[39;49m\u001b[43mverbose\u001b[49m\u001b[43m,\u001b[49m\n\u001b[1;32m    490\u001b[0m \u001b[43m    \u001b[49m\u001b[43mprefer\u001b[49m\u001b[38;5;241;43m=\u001b[39;49m\u001b[38;5;124;43m\"\u001b[39;49m\u001b[38;5;124;43mthreads\u001b[39;49m\u001b[38;5;124;43m\"\u001b[39;49m\u001b[43m,\u001b[49m\n\u001b[1;32m    491\u001b[0m \u001b[43m\u001b[49m\u001b[43m)\u001b[49m\u001b[43m(\u001b[49m\n\u001b[1;32m    492\u001b[0m \u001b[43m    \u001b[49m\u001b[43mdelayed\u001b[49m\u001b[43m(\u001b[49m\u001b[43m_parallel_build_trees\u001b[49m\u001b[43m)\u001b[49m\u001b[43m(\u001b[49m\n\u001b[1;32m    493\u001b[0m \u001b[43m        \u001b[49m\u001b[43mt\u001b[49m\u001b[43m,\u001b[49m\n\u001b[1;32m    494\u001b[0m \u001b[43m        \u001b[49m\u001b[38;5;28;43mself\u001b[39;49m\u001b[38;5;241;43m.\u001b[39;49m\u001b[43mbootstrap\u001b[49m\u001b[43m,\u001b[49m\n\u001b[1;32m    495\u001b[0m \u001b[43m        \u001b[49m\u001b[43mX\u001b[49m\u001b[43m,\u001b[49m\n\u001b[1;32m    496\u001b[0m \u001b[43m        \u001b[49m\u001b[43my\u001b[49m\u001b[43m,\u001b[49m\n\u001b[1;32m    497\u001b[0m \u001b[43m        \u001b[49m\u001b[43msample_weight\u001b[49m\u001b[43m,\u001b[49m\n\u001b[1;32m    498\u001b[0m \u001b[43m        \u001b[49m\u001b[43mi\u001b[49m\u001b[43m,\u001b[49m\n\u001b[1;32m    499\u001b[0m \u001b[43m        \u001b[49m\u001b[38;5;28;43mlen\u001b[39;49m\u001b[43m(\u001b[49m\u001b[43mtrees\u001b[49m\u001b[43m)\u001b[49m\u001b[43m,\u001b[49m\n\u001b[1;32m    500\u001b[0m \u001b[43m        \u001b[49m\u001b[43mverbose\u001b[49m\u001b[38;5;241;43m=\u001b[39;49m\u001b[38;5;28;43mself\u001b[39;49m\u001b[38;5;241;43m.\u001b[39;49m\u001b[43mverbose\u001b[49m\u001b[43m,\u001b[49m\n\u001b[1;32m    501\u001b[0m \u001b[43m        \u001b[49m\u001b[43mclass_weight\u001b[49m\u001b[38;5;241;43m=\u001b[39;49m\u001b[38;5;28;43mself\u001b[39;49m\u001b[38;5;241;43m.\u001b[39;49m\u001b[43mclass_weight\u001b[49m\u001b[43m,\u001b[49m\n\u001b[1;32m    502\u001b[0m \u001b[43m        \u001b[49m\u001b[43mn_samples_bootstrap\u001b[49m\u001b[38;5;241;43m=\u001b[39;49m\u001b[43mn_samples_bootstrap\u001b[49m\u001b[43m,\u001b[49m\n\u001b[1;32m    503\u001b[0m \u001b[43m        \u001b[49m\u001b[43mmissing_values_in_feature_mask\u001b[49m\u001b[38;5;241;43m=\u001b[39;49m\u001b[43mmissing_values_in_feature_mask\u001b[49m\u001b[43m,\u001b[49m\n\u001b[1;32m    504\u001b[0m \u001b[43m    \u001b[49m\u001b[43m)\u001b[49m\n\u001b[1;32m    505\u001b[0m \u001b[43m    \u001b[49m\u001b[38;5;28;43;01mfor\u001b[39;49;00m\u001b[43m \u001b[49m\u001b[43mi\u001b[49m\u001b[43m,\u001b[49m\u001b[43m \u001b[49m\u001b[43mt\u001b[49m\u001b[43m \u001b[49m\u001b[38;5;129;43;01min\u001b[39;49;00m\u001b[43m \u001b[49m\u001b[38;5;28;43menumerate\u001b[39;49m\u001b[43m(\u001b[49m\u001b[43mtrees\u001b[49m\u001b[43m)\u001b[49m\n\u001b[1;32m    506\u001b[0m \u001b[43m\u001b[49m\u001b[43m)\u001b[49m\n\u001b[1;32m    508\u001b[0m \u001b[38;5;66;03m# Collect newly grown trees\u001b[39;00m\n\u001b[1;32m    509\u001b[0m \u001b[38;5;28mself\u001b[39m\u001b[38;5;241m.\u001b[39mestimators_\u001b[38;5;241m.\u001b[39mextend(trees)\n",
      "File \u001b[0;32m~/.local/lib/python3.12/site-packages/sklearn/utils/parallel.py:77\u001b[0m, in \u001b[0;36mParallel.__call__\u001b[0;34m(self, iterable)\u001b[0m\n\u001b[1;32m     72\u001b[0m config \u001b[38;5;241m=\u001b[39m get_config()\n\u001b[1;32m     73\u001b[0m iterable_with_config \u001b[38;5;241m=\u001b[39m (\n\u001b[1;32m     74\u001b[0m     (_with_config(delayed_func, config), args, kwargs)\n\u001b[1;32m     75\u001b[0m     \u001b[38;5;28;01mfor\u001b[39;00m delayed_func, args, kwargs \u001b[38;5;129;01min\u001b[39;00m iterable\n\u001b[1;32m     76\u001b[0m )\n\u001b[0;32m---> 77\u001b[0m \u001b[38;5;28;01mreturn\u001b[39;00m \u001b[38;5;28;43msuper\u001b[39;49m\u001b[43m(\u001b[49m\u001b[43m)\u001b[49m\u001b[38;5;241;43m.\u001b[39;49m\u001b[38;5;21;43m__call__\u001b[39;49m\u001b[43m(\u001b[49m\u001b[43miterable_with_config\u001b[49m\u001b[43m)\u001b[49m\n",
      "File \u001b[0;32m~/.local/lib/python3.12/site-packages/joblib/parallel.py:1918\u001b[0m, in \u001b[0;36mParallel.__call__\u001b[0;34m(self, iterable)\u001b[0m\n\u001b[1;32m   1916\u001b[0m     output \u001b[38;5;241m=\u001b[39m \u001b[38;5;28mself\u001b[39m\u001b[38;5;241m.\u001b[39m_get_sequential_output(iterable)\n\u001b[1;32m   1917\u001b[0m     \u001b[38;5;28mnext\u001b[39m(output)\n\u001b[0;32m-> 1918\u001b[0m     \u001b[38;5;28;01mreturn\u001b[39;00m output \u001b[38;5;28;01mif\u001b[39;00m \u001b[38;5;28mself\u001b[39m\u001b[38;5;241m.\u001b[39mreturn_generator \u001b[38;5;28;01melse\u001b[39;00m \u001b[38;5;28;43mlist\u001b[39;49m\u001b[43m(\u001b[49m\u001b[43moutput\u001b[49m\u001b[43m)\u001b[49m\n\u001b[1;32m   1920\u001b[0m \u001b[38;5;66;03m# Let's create an ID that uniquely identifies the current call. If the\u001b[39;00m\n\u001b[1;32m   1921\u001b[0m \u001b[38;5;66;03m# call is interrupted early and that the same instance is immediately\u001b[39;00m\n\u001b[1;32m   1922\u001b[0m \u001b[38;5;66;03m# re-used, this id will be used to prevent workers that were\u001b[39;00m\n\u001b[1;32m   1923\u001b[0m \u001b[38;5;66;03m# concurrently finalizing a task from the previous call to run the\u001b[39;00m\n\u001b[1;32m   1924\u001b[0m \u001b[38;5;66;03m# callback.\u001b[39;00m\n\u001b[1;32m   1925\u001b[0m \u001b[38;5;28;01mwith\u001b[39;00m \u001b[38;5;28mself\u001b[39m\u001b[38;5;241m.\u001b[39m_lock:\n",
      "File \u001b[0;32m~/.local/lib/python3.12/site-packages/joblib/parallel.py:1847\u001b[0m, in \u001b[0;36mParallel._get_sequential_output\u001b[0;34m(self, iterable)\u001b[0m\n\u001b[1;32m   1845\u001b[0m \u001b[38;5;28mself\u001b[39m\u001b[38;5;241m.\u001b[39mn_dispatched_batches \u001b[38;5;241m+\u001b[39m\u001b[38;5;241m=\u001b[39m \u001b[38;5;241m1\u001b[39m\n\u001b[1;32m   1846\u001b[0m \u001b[38;5;28mself\u001b[39m\u001b[38;5;241m.\u001b[39mn_dispatched_tasks \u001b[38;5;241m+\u001b[39m\u001b[38;5;241m=\u001b[39m \u001b[38;5;241m1\u001b[39m\n\u001b[0;32m-> 1847\u001b[0m res \u001b[38;5;241m=\u001b[39m \u001b[43mfunc\u001b[49m\u001b[43m(\u001b[49m\u001b[38;5;241;43m*\u001b[39;49m\u001b[43margs\u001b[49m\u001b[43m,\u001b[49m\u001b[43m \u001b[49m\u001b[38;5;241;43m*\u001b[39;49m\u001b[38;5;241;43m*\u001b[39;49m\u001b[43mkwargs\u001b[49m\u001b[43m)\u001b[49m\n\u001b[1;32m   1848\u001b[0m \u001b[38;5;28mself\u001b[39m\u001b[38;5;241m.\u001b[39mn_completed_tasks \u001b[38;5;241m+\u001b[39m\u001b[38;5;241m=\u001b[39m \u001b[38;5;241m1\u001b[39m\n\u001b[1;32m   1849\u001b[0m \u001b[38;5;28mself\u001b[39m\u001b[38;5;241m.\u001b[39mprint_progress()\n",
      "File \u001b[0;32m~/.local/lib/python3.12/site-packages/sklearn/utils/parallel.py:139\u001b[0m, in \u001b[0;36m_FuncWrapper.__call__\u001b[0;34m(self, *args, **kwargs)\u001b[0m\n\u001b[1;32m    137\u001b[0m     config \u001b[38;5;241m=\u001b[39m {}\n\u001b[1;32m    138\u001b[0m \u001b[38;5;28;01mwith\u001b[39;00m config_context(\u001b[38;5;241m*\u001b[39m\u001b[38;5;241m*\u001b[39mconfig):\n\u001b[0;32m--> 139\u001b[0m     \u001b[38;5;28;01mreturn\u001b[39;00m \u001b[38;5;28;43mself\u001b[39;49m\u001b[38;5;241;43m.\u001b[39;49m\u001b[43mfunction\u001b[49m\u001b[43m(\u001b[49m\u001b[38;5;241;43m*\u001b[39;49m\u001b[43margs\u001b[49m\u001b[43m,\u001b[49m\u001b[43m \u001b[49m\u001b[38;5;241;43m*\u001b[39;49m\u001b[38;5;241;43m*\u001b[39;49m\u001b[43mkwargs\u001b[49m\u001b[43m)\u001b[49m\n",
      "File \u001b[0;32m~/.local/lib/python3.12/site-packages/sklearn/ensemble/_forest.py:189\u001b[0m, in \u001b[0;36m_parallel_build_trees\u001b[0;34m(tree, bootstrap, X, y, sample_weight, tree_idx, n_trees, verbose, class_weight, n_samples_bootstrap, missing_values_in_feature_mask)\u001b[0m\n\u001b[1;32m    186\u001b[0m     \u001b[38;5;28;01melif\u001b[39;00m class_weight \u001b[38;5;241m==\u001b[39m \u001b[38;5;124m\"\u001b[39m\u001b[38;5;124mbalanced_subsample\u001b[39m\u001b[38;5;124m\"\u001b[39m:\n\u001b[1;32m    187\u001b[0m         curr_sample_weight \u001b[38;5;241m*\u001b[39m\u001b[38;5;241m=\u001b[39m compute_sample_weight(\u001b[38;5;124m\"\u001b[39m\u001b[38;5;124mbalanced\u001b[39m\u001b[38;5;124m\"\u001b[39m, y, indices\u001b[38;5;241m=\u001b[39mindices)\n\u001b[0;32m--> 189\u001b[0m     \u001b[43mtree\u001b[49m\u001b[38;5;241;43m.\u001b[39;49m\u001b[43m_fit\u001b[49m\u001b[43m(\u001b[49m\n\u001b[1;32m    190\u001b[0m \u001b[43m        \u001b[49m\u001b[43mX\u001b[49m\u001b[43m,\u001b[49m\n\u001b[1;32m    191\u001b[0m \u001b[43m        \u001b[49m\u001b[43my\u001b[49m\u001b[43m,\u001b[49m\n\u001b[1;32m    192\u001b[0m \u001b[43m        \u001b[49m\u001b[43msample_weight\u001b[49m\u001b[38;5;241;43m=\u001b[39;49m\u001b[43mcurr_sample_weight\u001b[49m\u001b[43m,\u001b[49m\n\u001b[1;32m    193\u001b[0m \u001b[43m        \u001b[49m\u001b[43mcheck_input\u001b[49m\u001b[38;5;241;43m=\u001b[39;49m\u001b[38;5;28;43;01mFalse\u001b[39;49;00m\u001b[43m,\u001b[49m\n\u001b[1;32m    194\u001b[0m \u001b[43m        \u001b[49m\u001b[43mmissing_values_in_feature_mask\u001b[49m\u001b[38;5;241;43m=\u001b[39;49m\u001b[43mmissing_values_in_feature_mask\u001b[49m\u001b[43m,\u001b[49m\n\u001b[1;32m    195\u001b[0m \u001b[43m    \u001b[49m\u001b[43m)\u001b[49m\n\u001b[1;32m    196\u001b[0m \u001b[38;5;28;01melse\u001b[39;00m:\n\u001b[1;32m    197\u001b[0m     tree\u001b[38;5;241m.\u001b[39m_fit(\n\u001b[1;32m    198\u001b[0m         X,\n\u001b[1;32m    199\u001b[0m         y,\n\u001b[0;32m   (...)\u001b[0m\n\u001b[1;32m    202\u001b[0m         missing_values_in_feature_mask\u001b[38;5;241m=\u001b[39mmissing_values_in_feature_mask,\n\u001b[1;32m    203\u001b[0m     )\n",
      "File \u001b[0;32m~/.local/lib/python3.12/site-packages/sklearn/tree/_classes.py:472\u001b[0m, in \u001b[0;36mBaseDecisionTree._fit\u001b[0;34m(self, X, y, sample_weight, check_input, missing_values_in_feature_mask)\u001b[0m\n\u001b[1;32m    461\u001b[0m \u001b[38;5;28;01melse\u001b[39;00m:\n\u001b[1;32m    462\u001b[0m     builder \u001b[38;5;241m=\u001b[39m BestFirstTreeBuilder(\n\u001b[1;32m    463\u001b[0m         splitter,\n\u001b[1;32m    464\u001b[0m         min_samples_split,\n\u001b[0;32m   (...)\u001b[0m\n\u001b[1;32m    469\u001b[0m         \u001b[38;5;28mself\u001b[39m\u001b[38;5;241m.\u001b[39mmin_impurity_decrease,\n\u001b[1;32m    470\u001b[0m     )\n\u001b[0;32m--> 472\u001b[0m \u001b[43mbuilder\u001b[49m\u001b[38;5;241;43m.\u001b[39;49m\u001b[43mbuild\u001b[49m\u001b[43m(\u001b[49m\u001b[38;5;28;43mself\u001b[39;49m\u001b[38;5;241;43m.\u001b[39;49m\u001b[43mtree_\u001b[49m\u001b[43m,\u001b[49m\u001b[43m \u001b[49m\u001b[43mX\u001b[49m\u001b[43m,\u001b[49m\u001b[43m \u001b[49m\u001b[43my\u001b[49m\u001b[43m,\u001b[49m\u001b[43m \u001b[49m\u001b[43msample_weight\u001b[49m\u001b[43m,\u001b[49m\u001b[43m \u001b[49m\u001b[43mmissing_values_in_feature_mask\u001b[49m\u001b[43m)\u001b[49m\n\u001b[1;32m    474\u001b[0m \u001b[38;5;28;01mif\u001b[39;00m \u001b[38;5;28mself\u001b[39m\u001b[38;5;241m.\u001b[39mn_outputs_ \u001b[38;5;241m==\u001b[39m \u001b[38;5;241m1\u001b[39m \u001b[38;5;129;01mand\u001b[39;00m is_classifier(\u001b[38;5;28mself\u001b[39m):\n\u001b[1;32m    475\u001b[0m     \u001b[38;5;28mself\u001b[39m\u001b[38;5;241m.\u001b[39mn_classes_ \u001b[38;5;241m=\u001b[39m \u001b[38;5;28mself\u001b[39m\u001b[38;5;241m.\u001b[39mn_classes_[\u001b[38;5;241m0\u001b[39m]\n",
      "\u001b[0;31mKeyboardInterrupt\u001b[0m: "
     ]
    }
   ],
   "source": [
    "# 11/24 - 11/30 \n",
    "# I used the dataNN.csv data created by savan77\n",
    "\n",
    "from sklearn.ensemble import RandomForestClassifier\n",
    "import time\n",
    "import matplotlib.pyplot as plt\n",
    "\n",
    "m = RandomForestClassifier(n_estimators=100)\n",
    "#m.fit(X_train, y_train)\n",
    "times = []\n",
    "accuracy = []\n",
    "\n",
    "train_sizes = np.arange(.1, 1.1, .1)\n",
    "\n",
    "for size in train_sizes:\n",
    "    trainers = int(X_train.shape[0] * size)\n",
    "\n",
    "    X_trainer = X_train[:trainers]\n",
    "    y_trainer = y_train[:trainers]\n",
    "\n",
    "    start = time.time()\n",
    "    \n",
    "    m.fit(X_trainer, y_trainer)\n",
    "\n",
    "    end = time.time()\n",
    "\n",
    "    accuracy_of_section = m.score(X_test, y_test)\n",
    "\n",
    "    times.append(end-start)\n",
    "    accuracy.append(accuracy_of_section)\n",
    "\n",
    "    print(f\"Size: {size}\\t | Time: {end-start}\\t | Accuracy: {accuracy_of_section}\")\n",
    "\n",
    "plt.title(\"Random Forest Classifier\")\n",
    "plt.xlabel(\"Times (seconds)\")\n",
    "plt.ylabel(\"Accuracy\")\n",
    "plt.scatter(times, accuracy)\n",
    "plt.show()\n",
    "\n"
   ]
  },
  {
   "cell_type": "code",
   "execution_count": null,
   "metadata": {
    "collapsed": true
   },
   "outputs": [],
   "source": []
  },
  {
   "cell_type": "markdown",
   "metadata": {},
   "source": [
    "# Further experiment"
   ]
  },
  {
   "cell_type": "code",
   "execution_count": null,
   "metadata": {
    "collapsed": false
   },
   "outputs": [
    {
     "name": "stdout",
     "output_type": "stream",
     "text": [
      "116534\n",
      "388447\n"
     ]
    }
   ],
   "source": [
    "index = int(0.3 * len(data))"
   ]
  },
  {
   "cell_type": "code",
   "execution_count": 11,
   "metadata": {
    "collapsed": false
   },
   "outputs": [
    {
     "name": "stdout",
     "output_type": "stream",
     "text": [
      "388447\n"
     ]
    }
   ],
   "source": [
    "from sklearn.utils import shuffle\n",
    "\n",
    "data = pd.read_csv(\"/workspaces/Malicious-URL-Detection-using-Machine-Learning/data/dataNN.csv\",on_bad_lines='skip')\n",
    "\n",
    "data = shuffle(data)\n",
    "url_train = data['url'][:].values\n",
    "label_train = data['label'][:].values\n",
    "url_test = data['url'][:].values\n",
    "label_test = data['label'][:].values\n",
    "\n",
    "print(len(url_train))"
   ]
  },
  {
   "cell_type": "code",
   "execution_count": null,
   "metadata": {
    "collapsed": false
   },
   "outputs": [
    {
     "name": "stdout",
     "output_type": "stream",
     "text": [
      "Size: 0.1\t | Time: 1.0167582035064697\t | Accuracy: 0.9603806954359282\n",
      "Size: 0.2\t | Time: 2.4704840183258057\t | Accuracy: 0.9680059313110926\n",
      "Size: 0.30000000000000004\t | Time: 3.5496363639831543\t | Accuracy: 0.9716126009468473\n",
      "Size: 0.4\t | Time: 4.274959325790405\t | Accuracy: 0.9738934783895873\n",
      "Size: 0.5\t | Time: 6.95564603805542\t | Accuracy: 0.976094550865369\n",
      "Size: 0.6\t | Time: 8.858521461486816\t | Accuracy: 0.9785479100108895\n",
      "Size: 0.7000000000000001\t | Time: 7.79181170463562\t | Accuracy: 0.9789314887230433\n",
      "Size: 0.8\t | Time: 8.508812189102173\t | Accuracy: 0.9797243896850794\n",
      "Size: 0.9\t | Time: 8.487025260925293\t | Accuracy: 0.9822266615522839\n",
      "Size: 1.0\t | Time: 9.874245166778564\t | Accuracy: 0.982157154000417\n"
     ]
    },
    {
     "data": {
      "image/png": "[encoded data removed]",
      "text/plain": [
       "<Figure size 640x480 with 1 Axes>"
      ]
     },
     "metadata": {},
     "output_type": "display_data"
    }
   ],
   "source": [
    "# 1/26 - 2/1\n",
    "# I used the dataNN.csv data created by savan77\n",
    "\n",
    "from sklearn.pipeline import Pipeline\n",
    "from sklearn.preprocessing import FunctionTransformer\n",
    "import time\n",
    "import matplotlib.pyplot as plt\n",
    "\n",
    "\n",
    "\n",
    "pipeline = Pipeline([\n",
    "        (\"vectorizer\", TfidfVectorizer(tokenizer=None)),\n",
    "        (\"classifier\", LogisticRegression())])\n",
    "\n",
    "times = []\n",
    "accuracy = []\n",
    "\n",
    "train_sizes = np.arange(.1, 1.1, .1)\n",
    "\n",
    "for size in train_sizes:\n",
    "    trainers = int(url_train.shape[0] * size)\n",
    "\n",
    "    X_trainer = url_train[:trainers]\n",
    "    y_trainer = label_train[:trainers]\n",
    "\n",
    "    start = time.time()\n",
    "\n",
    "    pipeline.fit(X_trainer, y_trainer)\n",
    "\n",
    "    end = time.time()\n",
    "\n",
    "    accuracy_of_section = pipeline.score(url_test, label_test)\n",
    "\n",
    "    times.append(end-start)\n",
    "    accuracy.append(accuracy_of_section)\n",
    "\n",
    "    print(f\"Size: {size}\\t | Time: {end-start}\\t | Accuracy: {accuracy_of_section}\")\n",
    "\n",
    "plt.title(\"Pipeline\")\n",
    "plt.xlabel(\"Time (seconds)\")\n",
    "plt.ylabel(\"Accuracy\")\n",
    "plt.scatter(times, accuracy)\n",
    "plt.show()"
   ]
  },
  {
   "cell_type": "code",
   "execution_count": 16,
   "metadata": {
    "collapsed": false
   },
   "outputs": [
    {
     "data": {
      "text/plain": [
       "0.97097842689687131"
      ]
     },
     "execution_count": 16,
     "metadata": {},
     "output_type": "execute_result"
    }
   ],
   "source": [
    "pipeline.score(url_test, label_test)\n",
    "accuracy_score(label_test, y_predict)"
   ]
  },
  {
   "cell_type": "markdown",
   "metadata": {},
   "source": [
    "Neural Network Models"
   ]
  },
  {
   "cell_type": "code",
   "execution_count": null,
   "metadata": {
    "collapsed": true
   },
   "outputs": [
    {
     "name": "stdout",
     "output_type": "stream",
     "text": [
      "Size: 0.1\t | Time: 2081.1417531967163\t | Accuracy: 0.9754149003724235\n",
      "Size: 0.2\t | Time: 2083.2402713298798\t | Accuracy: 0.9765390358178729\n",
      "Size: 0.30000000000000004\t | Time: 2084.125701904297\t | Accuracy: 0.9761614636071876\n",
      "Size: 0.4\t | Time: 2149.6556012630463\t | Accuracy: 0.9748657044296085\n",
      "Size: 0.5\t | Time: 2100.6754252910614\t | Accuracy: 0.9765561981910859\n",
      "Size: 0.6\t | Time: 2091.130915403366\t | Accuracy: 0.9753119261331457\n",
      "Size: 0.7\t | Time: 2103.9897134304047\t | Accuracy: 0.976736403109822\n",
      "Size: 0.7999999999999999\t | Time: 2184.737274169922\t | Accuracy: 0.9757409854634699\n",
      "Size: 0.8999999999999999\t | Time: 2055.7295649051666\t | Accuracy: 0.9763245061527108\n",
      "Size: 0.9999999999999999\t | Time: 2195.0882396698\t | Accuracy: 0.9756208488509791\n"
     ]
    },
    {
     "data": {
      "image/png": "[encoded data removed]",
      "text/plain": [
       "<Figure size 640x480 with 1 Axes>"
      ]
     },
     "metadata": {},
     "output_type": "display_data"
    }
   ],
   "source": [
    "# MLPClassifier\n",
    "from sklearn.feature_extraction.text import TfidfVectorizer\n",
    "from sklearn.neural_network import MLPClassifier\n",
    "import time\n",
    "import matplotlib.pyplot as plt\n",
    "import numpy as np\n",
    "\n",
    "\n",
    "vectorizer = TfidfVectorizer()\n",
    "clf = MLPClassifier()\n",
    "times = []\n",
    "accuracy = []\n",
    "\n",
    "train_sizes = np.arange(.1, 1.1, .1)\n",
    "\n",
    "X_train_ft = vectorizer.fit_transform(url_train)\n",
    "X_test_t = vectorizer.transform(url_test)\n",
    "\n",
    "for size in train_sizes:\n",
    "    trainers = int(url_train.shape[0] * size)\n",
    "\n",
    "    X_trainer = url_train[:trainers]\n",
    "    y_trainer = label_train[:trainers]\n",
    "\n",
    "    start = time.time()\n",
    "\n",
    "    clf.fit(X_trainer, y_trainer)\n",
    "\n",
    "    end = time.time()\n",
    "\n",
    "    accuracy_of_section = clf.score(X_test_t, label_test)\n",
    "\n",
    "    times.append(end-start)\n",
    "    accuracy.append(accuracy_of_section)\n",
    "\n",
    "    print(f\"Size: {size}\\t | Time: {end-start}\\t | Accuracy: {accuracy_of_section}\")\n",
    "\n",
    "\n",
    "\n",
    "\n",
    "plt.title(\"MLPClassifier\")\n",
    "plt.xlabel(\"Time (seconds)\")\n",
    "plt.ylabel(\"Accuracy\")\n",
    "plt.scatter(times, accuracy)\n",
    "plt.show()"
   ]
  },
  {
   "cell_type": "code",
   "execution_count": 16,
   "metadata": {},
   "outputs": [
    {
     "name": "stdout",
     "output_type": "stream",
     "text": [
      "Size: 38844\t | Time: 0.2870523929595947\t | Accuracy: 0.9798634047888128\n",
      "Size: 77689\t | Time: 0.6123621463775635\t | Accuracy: 0.9859311566314066\n",
      "Size: 116534\t | Time: 0.9203305244445801\t | Accuracy: 0.9893318779653337\n",
      "Size: 155378\t | Time: 1.9016566276550293\t | Accuracy: 0.991888211261768\n",
      "Size: 194223\t | Time: 1.534233808517456\t | Accuracy: 0.9938086791763098\n",
      "Size: 233068\t | Time: 1.9376723766326904\t | Accuracy: 0.9953610145013349\n",
      "Size: 271912\t | Time: 3.295879602432251\t | Accuracy: 0.996498878868932\n",
      "Size: 310757\t | Time: 3.309509515762329\t | Accuracy: 0.9977809070478083\n",
      "Size: 349602\t | Time: 4.252936124801636\t | Accuracy: 0.9987256948824421\n",
      "Size: 388447\t | Time: 5.421846151351929\t | Accuracy: 0.9996267187029376\n"
     ]
    },
    {
     "data": {
      "image/png": "[encoded data removed]",
      "text/plain": [
       "<Figure size 640x480 with 1 Axes>"
      ]
     },
     "metadata": {},
     "output_type": "display_data"
    }
   ],
   "source": [
    "# CalibrationClassifierCV\n",
    "from sklearn.feature_extraction.text import TfidfVectorizer\n",
    "from sklearn.calibration import CalibratedClassifierCV\n",
    "import time\n",
    "import matplotlib.pyplot as plt\n",
    "import numpy as np\n",
    "\n",
    "vectorizer = TfidfVectorizer()\n",
    "cv = CalibratedClassifierCV()\n",
    "\n",
    "times = []\n",
    "accuracy = []\n",
    "\n",
    "train_sizes = np.arange(.1, 1.1, .1)\n",
    "\n",
    "X_train_ft = vectorizer.fit_transform(url_train)\n",
    "X_test_t = vectorizer.transform(url_test)\n",
    "\n",
    "for size in train_sizes:\n",
    "    trainers = int(url_train.shape[0] * size)\n",
    "\n",
    "    X_trainer = X_train_ft[:trainers]\n",
    "    y_trainer = label_train[:trainers]\n",
    "\n",
    "    start = time.time()\n",
    "\n",
    "    cv.fit(X_trainer, y_trainer)\n",
    "\n",
    "    end = time.time()\n",
    "\n",
    "    accuracy_of_section = cv.score(X_test_t, label_test)\n",
    "\n",
    "    times.append(end-start)\n",
    "    accuracy.append(accuracy_of_section)\n",
    "\n",
    "    print(f\"Size: {trainers}\\t | Time: {end-start}\\t | Accuracy: {accuracy_of_section}\")\n",
    "\n",
    "\n",
    "\n",
    "\n",
    "plt.title(\"CalibrationClassifierCV\")\n",
    "plt.xlabel(\"Time (seconds)\")\n",
    "plt.ylabel(\"Accuracy\")\n",
    "plt.scatter(times, accuracy)\n",
    "plt.show()\n",
    "\n"
   ]
  }
 ],
 "metadata": {
  "kernelspec": {
   "display_name": "Python 3",
   "language": "python",
   "name": "python3"
  },
  "language_info": {
   "codemirror_mode": {
    "name": "ipython",
    "version": 3
   },
   "file_extension": ".py",
   "mimetype": "text/x-python",
   "name": "python",
   "nbconvert_exporter": "python",
   "pygments_lexer": "ipython3",
   "version": "3.12.1"
  }
 },
 "nbformat": 4,
 "nbformat_minor": 2
}
