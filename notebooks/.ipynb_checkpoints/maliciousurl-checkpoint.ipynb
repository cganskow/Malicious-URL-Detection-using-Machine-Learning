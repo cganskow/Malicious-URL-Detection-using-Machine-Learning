{
 "cells": [
  {
   "cell_type": "markdown",
   "metadata": {},
   "source": [
    "# Import Dependencies"
   ]
  },
  {
   "cell_type": "code",
   "execution_count": 1,
   "metadata": {
    "collapsed": false
   },
   "outputs": [],
   "source": [
    "\n",
    "import pandas as pd\n",
    "import numpy as np\n",
    "from sklearn.feature_extraction.text import TfidfVectorizer\n",
    "import joblib\n",
    "import re\n",
    "import random\n",
    "from sklearn.metrics import accuracy_score\n",
    "\n",
    "from sklearn.linear_model import LogisticRegression\n",
    "from sklearn.model_selection import train_test_split"
   ]
  },
  {
   "cell_type": "code",
   "execution_count": 2,
   "metadata": {
    "collapsed": true
   },
   "outputs": [],
   "source": [
    "#this function is taken from https://github.com/faizann24/Using-machine-learning-to-detect-malicious-URLs\n",
    "def getTokens(input):\n",
    "    tokensBySlash = str(input.encode('utf-8')).split('/')\n",
    "#    print(f\".encode(utf-8).split('/'){tokensBySlash}\")\n",
    "    allTokens = []\n",
    "    for i in tokensBySlash:\n",
    "        tokens = str(i).split('-')\n",
    "        tokensByDot = []\n",
    "        for j in range(0,len(tokens)):\n",
    "            tempTokens = str(tokens[j]).split('.')\n",
    "            tokensByDot = tokensByDot + tempTokens\n",
    "        allTokens = allTokens + tokens + tokensByDot\n",
    "    allTokens = list(set(allTokens))\n",
    "    if 'com' in allTokens:\n",
    "        allTokens.remove('com')\n",
    "    return allTokens\n",
    "\n",
    "#function to remove \"http://\" from URL\n",
    "def trim(url):\n",
    "    return re.match(r'(?:\\w*://)?(?:.*\\.)?([a-zA-Z-1-9]*\\.[a-zA-Z]{1,}).*', url).groups()[0]"
   ]
  },
  {
   "cell_type": "markdown",
   "metadata": {},
   "source": [
    "# Prepare Dataset"
   ]
  },
  {
   "cell_type": "code",
   "execution_count": 24,
   "metadata": {
    "collapsed": false
   },
   "outputs": [
    {
     "data": {
      "text/plain": [
       "array(['diaryofagameaddict.com', 'espdesign.com.au', 'iamagameaddict.com',\n",
       "       ..., 'owens.edu/news-releases/?p=2052',\n",
       "       '1.safesecureweb.com/egale/index.asp?item=1173',\n",
       "       'yurika.otakuthon.com/reg/main.pl/en/'], dtype=object)"
      ]
     },
     "execution_count": 24,
     "metadata": {},
     "output_type": "execute_result"
    }
   ],
   "source": [
    "#read from a \n",
    "#original code:\n",
    "# data = pd.read_csv(\"../data/dataNN.csv\",',',error_bad_lines=False)\t#reading file\n",
    "data = pd.read_csv(\"/workspaces/Malicious-URL-Detection-using-Machine-Learning/data/dataNN.csv\",on_bad_lines='skip')\t#reading file\n",
    "data['url'].values"
   ]
  },
  {
   "cell_type": "code",
   "execution_count": 5,
   "metadata": {
    "collapsed": false
   },
   "outputs": [
    {
     "data": {
      "text/plain": [
       "388447"
      ]
     },
     "execution_count": 5,
     "metadata": {},
     "output_type": "execute_result"
    }
   ],
   "source": [
    "len(data)"
   ]
  },
  {
   "cell_type": "code",
   "execution_count": null,
   "metadata": {
    "collapsed": false
   },
   "outputs": [],
   "source": []
  },
  {
   "cell_type": "code",
   "execution_count": null,
   "metadata": {
    "collapsed": true
   },
   "outputs": [],
   "source": []
  },
  {
   "cell_type": "code",
   "execution_count": null,
   "metadata": {
    "collapsed": true
   },
   "outputs": [],
   "source": []
  },
  {
   "cell_type": "code",
   "execution_count": 4,
   "metadata": {
    "collapsed": false
   },
   "outputs": [],
   "source": [
    "#convert it into numpy array and shuffle the dataset\n",
    "data = np.array(data)\n",
    "random.shuffle(data)\n"
   ]
  },
  {
   "cell_type": "code",
   "execution_count": null,
   "metadata": {
    "collapsed": false
   },
   "outputs": [],
   "source": []
  },
  {
   "cell_type": "code",
   "execution_count": 5,
   "metadata": {
    "collapsed": false
   },
   "outputs": [
    {
     "name": "stderr",
     "output_type": "stream",
     "text": [
      "/home/codespace/.local/lib/python3.12/site-packages/sklearn/feature_extraction/text.py:521: UserWarning: The parameter 'token_pattern' will not be used since 'tokenizer' is not None'\n",
      "  warnings.warn(\n"
     ]
    }
   ],
   "source": [
    "#convert text data into numerical data for machine learning models\n",
    "y = [d[1] for d in data]\n",
    "corpus = [d[0] for d in data]\n",
    "vectorizer = TfidfVectorizer(tokenizer=getTokens)\n",
    "X = vectorizer.fit_transform(corpus)\n",
    "\n"
   ]
  },
  {
   "cell_type": "code",
   "execution_count": 6,
   "metadata": {
    "collapsed": false
   },
   "outputs": [],
   "source": [
    "#split the data set inot train and test\n",
    "X_train, X_test, y_train, y_test = train_test_split(X, y, test_size=0.2, random_state=42)\n"
   ]
  },
  {
   "cell_type": "markdown",
   "metadata": {},
   "source": [
    "# Train Machine Learning Models "
   ]
  },
  {
   "cell_type": "code",
   "execution_count": null,
   "metadata": {
    "collapsed": false
   },
   "outputs": [
    {
     "name": "stdout",
     "output_type": "stream",
     "text": [
      "Size: 0.01\t | Time: 3.0933241844177246\t | Accuracy: 0.8212511262710773\n",
      "Size: 0.02\t | Time: 1.2986490726470947\t | Accuracy: 0.8623503668425795\n",
      "Size: 0.03\t | Time: 1.82539963722229\t | Accuracy: 0.8786072853649118\n",
      "Size: 0.04\t | Time: 2.0859286785125732\t | Accuracy: 0.8887630325653237\n",
      "Size: 0.05\t | Time: 1.7527449131011963\t | Accuracy: 0.8983395546402368\n",
      "Size: 0.060000000000000005\t | Time: 2.8019895553588867\t | Accuracy: 0.9075170549620286\n",
      "Size: 0.06999999999999999\t | Time: 2.4893879890441895\t | Accuracy: 0.9136825846312266\n",
      "Size: 0.08\t | Time: 3.5565242767333984\t | Accuracy: 0.9183550006435834\n",
      "Size: 0.09\t | Time: 2.00763201713562\t | Accuracy: 0.922924443300296\n",
      "Size: 0.09999999999999999\t | Time: 2.548663854598999\t | Accuracy: 0.9252027287939246\n",
      "Size: 0.11\t | Time: 2.2471768856048584\t | Accuracy: 0.9289612562749389\n",
      "Size: 0.12\t | Time: 3.0871880054473877\t | Accuracy: 0.9320762002831767\n",
      "Size: 0.13\t | Time: 2.398153305053711\t | Accuracy: 0.9342128974127945\n",
      "Size: 0.14\t | Time: 3.330825090408325\t | Accuracy: 0.936053546144935\n",
      "Size: 0.15000000000000002\t | Time: 2.9408347606658936\t | Accuracy: 0.9381387565967306\n",
      "Size: 0.16\t | Time: 2.186030864715576\t | Accuracy: 0.939245720169906\n",
      "Size: 0.17\t | Time: 3.289597272872925\t | Accuracy: 0.9401209936928819\n",
      "Size: 0.18000000000000002\t | Time: 2.986724376678467\t | Accuracy: 0.9429398893036427\n",
      "Size: 0.19\t | Time: 3.403325319290161\t | Accuracy: 0.9438280344960741\n",
      "Size: 0.2\t | Time: 2.206693410873413\t | Accuracy: 0.9458746299395031\n",
      "Size: 0.21000000000000002\t | Time: 2.998608112335205\t | Accuracy: 0.9478053803578325\n",
      "Size: 0.22\t | Time: 3.8811306953430176\t | Accuracy: 0.9499420774874501\n",
      "Size: 0.23\t | Time: 2.8675925731658936\t | Accuracy: 0.949916334148539\n",
      "Size: 0.24000000000000002\t | Time: 3.4851341247558594\t | Accuracy: 0.9522975929978118\n",
      "Size: 0.25\t | Time: 3.8743770122528076\t | Accuracy: 0.9533144548847986\n",
      "Size: 0.26\t | Time: 3.183844804763794\t | Accuracy: 0.9540738833826747\n",
      "Size: 0.27\t | Time: 3.585590362548828\t | Accuracy: 0.9558501737675377\n",
      "Size: 0.28\t | Time: 4.664202690124512\t | Accuracy: 0.9571373407130905\n",
      "Size: 0.29000000000000004\t | Time: 4.090662956237793\t | Accuracy: 0.9565967305959583\n",
      "Size: 0.3\t | Time: 3.003673791885376\t | Accuracy: 0.9582829192946325\n",
      "Size: 0.31\t | Time: 3.3897008895874023\t | Accuracy: 0.9591067061397863\n",
      "Size: 0.32\t | Time: 3.484670877456665\t | Accuracy: 0.9596859312652851\n",
      "Size: 0.33\t | Time: 3.452558994293213\t | Accuracy: 0.9603295147380615\n",
      "Size: 0.34\t | Time: 3.563199520111084\t | Accuracy: 0.9617067833698031\n",
      "Size: 0.35000000000000003\t | Time: 3.5346860885620117\t | Accuracy: 0.9625434418844124\n",
      "Size: 0.36000000000000004\t | Time: 4.70116925239563\t | Accuracy: 0.9631870253571888\n",
      "Size: 0.37\t | Time: 3.606332302093506\t | Accuracy: 0.963289998712833\n",
      "Size: 0.38\t | Time: 4.370721101760864\t | Accuracy: 0.9644999356416527\n",
      "Size: 0.39\t | Time: 3.6511192321777344\t | Accuracy: 0.964873214055863\n",
      "Size: 0.4\t | Time: 5.614557266235352\t | Accuracy: 0.9650276740893294\n",
      "Size: 0.41000000000000003\t | Time: 3.4732773303985596\t | Accuracy: 0.9642167589136311\n",
      "Size: 0.42000000000000004\t | Time: 4.22981595993042\t | Accuracy: 0.9656583858926503\n",
      "Size: 0.43\t | Time: 5.461383819580078\t | Accuracy: 0.9656455142231948\n",
      "Size: 0.44\t | Time: 3.6776139736175537\t | Accuracy: 0.965040545758785\n",
      "Size: 0.45\t | Time: 4.737484455108643\t | Accuracy: 0.9668297078131034\n",
      "Size: 0.46\t | Time: 5.725638151168823\t | Accuracy: 0.9687604582314326\n",
      "Size: 0.47000000000000003\t | Time: 4.477604150772095\t | Accuracy: 0.9687475865619771\n",
      "Size: 0.48000000000000004\t | Time: 3.8333027362823486\t | Accuracy: 0.968696099884155\n",
      "Size: 0.49\t | Time: 5.0054473876953125\t | Accuracy: 0.9693654266958425\n",
      "Size: 0.5\t | Time: 4.681028127670288\t | Accuracy: 0.9697644484489638\n",
      "Size: 0.51\t | Time: 4.688299179077148\t | Accuracy: 0.9691980949929205\n",
      "Size: 0.52\t | Time: 3.6194915771484375\t | Accuracy: 0.970987257047239\n",
      "Size: 0.53\t | Time: 3.4298956394195557\t | Accuracy: 0.9694169133736645\n",
      "Size: 0.54\t | Time: 4.451873064041138\t | Accuracy: 0.9710001287166946\n",
      "Size: 0.55\t | Time: 2.9036526679992676\t | Accuracy: 0.9710516153945167\n",
      "Size: 0.56\t | Time: 5.929312229156494\t | Accuracy: 0.9718496589007595\n",
      "Size: 0.5700000000000001\t | Time: 4.827031135559082\t | Accuracy: 0.9721714506371476\n",
      "Size: 0.5800000000000001\t | Time: 5.0391998291015625\t | Accuracy: 0.9735744626078002\n",
      "Size: 0.59\t | Time: 4.167187690734863\t | Accuracy: 0.9722486806538808\n",
      "Size: 0.6\t | Time: 5.394561290740967\t | Accuracy: 0.9741794310722101\n",
      "Size: 0.61\t | Time: 7.353963851928711\t | Accuracy: 0.9725189857124469\n",
      "Size: 0.62\t | Time: 9.545849561691284\t | Accuracy: 0.9755566997039516\n",
      "Size: 0.63\t | Time: 6.138908386230469\t | Accuracy: 0.9730338524906681\n",
      "Size: 0.64\t | Time: 5.972614288330078\t | Accuracy: 0.9756596730595958\n",
      "Size: 0.65\t | Time: 8.945314168930054\t | Accuracy: 0.9762517698545501\n",
      "Size: 0.66\t | Time: 7.396197319030762\t | Accuracy: 0.9758913631097953\n",
      "Size: 0.67\t | Time: 8.851440906524658\t | Accuracy: 0.9752863946453855\n",
      "Size: 0.68\t | Time: 6.443167209625244\t | Accuracy: 0.9756854163985069\n",
      "Size: 0.6900000000000001\t | Time: 6.606699466705322\t | Accuracy: 0.975518084695585\n",
      "Size: 0.7000000000000001\t | Time: 6.5342326164245605\t | Accuracy: 0.9763032565323723\n",
      "Size: 0.7100000000000001\t | Time: 5.666073560714722\t | Accuracy: 0.9772557600720814\n",
      "Size: 0.72\t | Time: 9.578853368759155\t | Accuracy: 0.9776933968335693\n",
      "Size: 0.73\t | Time: 4.632406711578369\t | Accuracy: 0.9768696099884155\n",
      "Size: 0.74\t | Time: 5.814963102340698\t | Accuracy: 0.9778864718754022\n",
      "Size: 0.75\t | Time: 7.437895774841309\t | Accuracy: 0.9774617067833699\n",
      "Size: 0.76\t | Time: 8.696102142333984\t | Accuracy: 0.9791736388209551\n",
      "Size: 0.77\t | Time: 15.472630739212036\t | Accuracy: 0.977538936800103\n",
      "Size: 0.78\t | Time: 6.105057954788208\t | Accuracy: 0.9785429270176342\n",
      "Size: 0.79\t | Time: 6.134785413742065\t | Accuracy: 0.9801518856995752\n",
      "Size: 0.8\t | Time: 10.014522314071655\t | Accuracy: 0.9792122538293216\n",
      "Size: 0.81\t | Time: 8.36352825164795\t | Accuracy: 0.9809241858669069\n",
      "Size: 0.8200000000000001\t | Time: 9.13994574546814\t | Accuracy: 0.9799201956493757\n",
      "Size: 0.8300000000000001\t | Time: 4.997038125991821\t | Accuracy: 0.9805380357832411\n",
      "Size: 0.8400000000000001\t | Time: 7.278751373291016\t | Accuracy: 0.9788132320762003\n",
      "Size: 0.85\t | Time: 8.586119413375854\t | Accuracy: 0.9795083022267989\n",
      "Size: 0.86\t | Time: 6.060811519622803\t | Accuracy: 0.9779508302226799\n",
      "Size: 0.87\t | Time: 6.889234304428101\t | Accuracy: 0.9810915175698288\n",
      "Size: 0.88\t | Time: 5.852492094039917\t | Accuracy: 0.9790835371347664\n",
      "Size: 0.89\t | Time: 9.249926805496216\t | Accuracy: 0.9815935126785944\n",
      "Size: 0.9\t | Time: 9.018228530883789\t | Accuracy: 0.982121251126271\n",
      "Size: 0.91\t | Time: 5.374133586883545\t | Accuracy: 0.9811430042476509\n",
      "Size: 0.92\t | Time: 8.216199398040771\t | Accuracy: 0.982507401209937\n",
      "Size: 0.93\t | Time: 7.8344926834106445\t | Accuracy: 0.9836272364525679\n",
      "Size: 0.9400000000000001\t | Time: 10.347116708755493\t | Accuracy: 0.9827133479212253\n",
      "Size: 0.9500000000000001\t | Time: 5.853925704956055\t | Accuracy: 0.9824172995237482\n",
      "Size: 0.9600000000000001\t | Time: 9.110305309295654\t | Accuracy: 0.9830737546659801\n",
      "Size: 0.97\t | Time: 7.746700763702393\t | Accuracy: 0.9827390912601365\n",
      "Size: 0.98\t | Time: 7.616898059844971\t | Accuracy: 0.9828291929463251\n",
      "Size: 0.99\t | Time: 6.174625635147095\t | Accuracy: 0.9828291929463251\n",
      "Size: 1.0\t | Time: 6.187622785568237\t | Accuracy: 0.9842708199253443\n"
     ]
    },
    {
     "data": {
      "image/png": "[encoded data removed]",
      "text/plain": [
       "<Figure size 640x480 with 1 Axes>"
      ]
     },
     "metadata": {},
     "output_type": "display_data"
    }
   ],
   "source": [
    "#1 - Logistic Regression\n",
    "import time\n",
    "import matplotlib.pyplot as plt\n",
    "\n",
    "\n",
    "\n",
    "#model = LogisticRegression(C=1)\n",
    "#model.fit(X_train, y_train)\n",
    "\n",
    "times = []\n",
    "accuracy = []\n",
    "\n",
    "train_sizes = np.arange(0.01, 1.01, 0.01)\n",
    "\n",
    "for size in train_sizes:\n",
    "    trainers = int(X_train.shape[0] * size)\n",
    "\n",
    "    X_trainer = X_train[:trainers]\n",
    "    y_trainer = y_train[:trainers]\n",
    "\n",
    "    start = time.time()\n",
    "\n",
    "    model = LogisticRegression(max_iter=200)\n",
    "    model.fit(X_trainer, y_trainer)\n",
    "\n",
    "    end = time.time()\n",
    "\n",
    "    y_predict = model.predict(X_test)\n",
    "\n",
    "    accuracy_of_section = accuracy_score(y_test, y_predict)\n",
    "\n",
    "    times.append(end-start)\n",
    "    accuracy.append(accuracy_of_section)\n",
    "\n",
    "    print(f\"Size: {size}\\t | Time: {end-start}\\t | Accuracy: {accuracy_of_section}\")\n",
    "\n",
    "\n",
    "plt.title(\"Logistic Regression\")\n",
    "plt.xlabel(\"Time (seconds)\")\n",
    "plt.ylabel(\"Accuracy\")\n",
    "plt.scatter(times, accuracy)\n",
    "plt.show()\n",
    "\n"
   ]
  },
  {
   "cell_type": "code",
   "execution_count": 10,
   "metadata": {
    "collapsed": false
   },
   "outputs": [
    {
     "name": "stdout",
     "output_type": "stream",
     "text": [
      "0.982558887887759\n"
     ]
    }
   ],
   "source": [
    "print(model.score(X_test,y_test))"
   ]
  },
  {
   "cell_type": "code",
   "execution_count": 11,
   "metadata": {
    "collapsed": false
   },
   "outputs": [
    {
     "data": {
      "text/plain": [
       "['vectorizer1.pkl']"
      ]
     },
     "execution_count": 11,
     "metadata": {},
     "output_type": "execute_result"
    }
   ],
   "source": [
    "#save the model and vectorizer\n",
    "joblib.dump(model, \"mal-logireg1.pkl\", protocol=2)\n",
    "joblib.dump(vectorizer, \"vectorizer1.pkl\", protocol=2)"
   ]
  },
  {
   "cell_type": "code",
   "execution_count": 12,
   "metadata": {
    "collapsed": false
   },
   "outputs": [
    {
     "data": {
      "text/plain": [
       "np.int64(0)"
      ]
     },
     "execution_count": 12,
     "metadata": {},
     "output_type": "execute_result"
    }
   ],
   "source": [
    "#make prediction\n",
    "a = \"http://www.savanvisalpara.com\"\n",
    "aa = vectorizer.transform([trim(a)])\n",
    "s = model.predict(aa)\n",
    "s[0] #0 for good"
   ]
  },
  {
   "cell_type": "code",
   "execution_count": 7,
   "metadata": {
    "collapsed": false
   },
   "outputs": [
    {
     "name": "stdout",
     "output_type": "stream",
     "text": [
      "Size: 0.1\t | Time: 133.011901140213\t | Accuracy: 0.9488866005920968\n",
      "Size: 0.2\t | Time: 443.98284554481506\t | Accuracy: 0.9698802934740636\n",
      "Size: 0.30000000000000004\t | Time: 973.3701732158661\t | Accuracy: 0.9799845539966534\n",
      "Size: 0.4\t | Time: 1270.7810804843903\t | Accuracy: 0.9863689020465954\n",
      "Size: 0.5\t | Time: 2181.952887058258\t | Accuracy: 0.9899343544857768\n",
      "Size: 0.6\t | Time: 3363.401368379593\t | Accuracy: 0.9920839232848501\n",
      "Size: 0.7000000000000001\t | Time: 4005.2927384376526\t | Accuracy: 0.993860213669713\n",
      "Size: 0.8\t | Time: 5738.216026067734\t | Accuracy: 0.9951731239541769\n",
      "Size: 0.9\t | Time: 7504.6832456588745\t | Accuracy: 0.9964216758913631\n",
      "Size: 1.0\t | Time: 8289.177054405212\t | Accuracy: 0.9971038743725061\n"
     ]
    },
    {
     "data": {
      "image/png": "[encoded data removed]",
      "text/plain": [
       "<Figure size 640x480 with 1 Axes>"
      ]
     },
     "metadata": {},
     "output_type": "display_data"
    }
   ],
   "source": [
    "#2 - SVM\n",
    "import time\n",
    "from sklearn.svm import SVC\n",
    "import matplotlib.pyplot as plt\n",
    "#from sklearn import svm\n",
    "svcModel = SVC()\n",
    "\n",
    "times = []\n",
    "accuracy = []\n",
    "\n",
    "train_sizes = np.arange(.1, 1.1, .1)\n",
    "\n",
    "for size in train_sizes:\n",
    "    trainers = int(X_train.shape[0] * size)\n",
    "\n",
    "    X_trainer = X_train[:trainers]\n",
    "    y_trainer = y_train[:trainers]\n",
    "    \n",
    "    start = time.time()\n",
    "\n",
    "    svcModel.fit(X_trainer, y_trainer)\n",
    "\n",
    "    end = time.time()\n",
    "\n",
    "    y_predict = svcModel.predict(X_test)\n",
    "    accuracy_of_section = accuracy_score(y_test, y_predict)\n",
    "\n",
    "    times.append(end-start)\n",
    "    accuracy.append(accuracy_of_section)\n",
    "\n",
    "    print(f\"Size: {size}\\t | Time: {end-start}\\t | Accuracy: {accuracy_of_section}\")\n",
    "\n",
    "plt.title(\"SVC Model\")\n",
    "plt.xlabel(\"Time (seconds)\")\n",
    "plt.ylabel(\"Accuracy\")\n",
    "plt.scatter(times, accuracy)\n",
    "plt.show()\n",
    "\n",
    "#svcModel.fit(X_train, y_train)\n",
    "#lsvcModel = svm.LinearSVC.fit(X_train, y_train)"
   ]
  },
  {
   "cell_type": "code",
   "execution_count": null,
   "metadata": {},
   "outputs": [
    {
     "name": "stdout",
     "output_type": "stream",
     "text": [
      "Size: 0.01\t | Time: 0.00904393196105957\t | Accuracy: 0.8892264126657228\n",
      "Size: 0.02\t | Time: 0.013651609420776367\t | Accuracy: 0.9123439310078517\n",
      "Size: 0.03\t | Time: 0.0202634334564209\t | Accuracy: 0.9226283949028189\n",
      "Size: 0.04\t | Time: 0.025228023529052734\t | Accuracy: 0.9329772171450638\n",
      "Size: 0.05\t | Time: 0.03279876708984375\t | Accuracy: 0.9397477152786716\n",
      "Size: 0.060000000000000005\t | Time: 0.03620147705078125\t | Accuracy: 0.945140944780538\n",
      "Size: 0.06999999999999999\t | Time: 0.04315328598022461\t | Accuracy: 0.9500707941820054\n",
      "Size: 0.08\t | Time: 0.047616004943847656\t | Accuracy: 0.954151113399408\n",
      "Size: 0.09\t | Time: 0.053503990173339844\t | Accuracy: 0.9568026773072468\n",
      "Size: 0.09999999999999999\t | Time: 0.0589144229888916\t | Accuracy: 0.9596601879263741\n",
      "Size: 0.11\t | Time: 0.06260561943054199\t | Accuracy: 0.9619770884283692\n",
      "Size: 0.12\t | Time: 0.06755495071411133\t | Accuracy: 0.964409833955464\n",
      "Size: 0.13\t | Time: 0.07236933708190918\t | Accuracy: 0.9661088943235938\n",
      "Size: 0.14\t | Time: 0.0783989429473877\t | Accuracy: 0.9676921096666238\n",
      "Size: 0.15000000000000002\t | Time: 0.08392047882080078\t | Accuracy: 0.9684644098339554\n",
      "Size: 0.16\t | Time: 0.08724117279052734\t | Accuracy: 0.9700733685158965\n",
      "Size: 0.17\t | Time: 0.0925135612487793\t | Accuracy: 0.971669455528382\n",
      "Size: 0.18000000000000002\t | Time: 0.09937787055969238\t | Accuracy: 0.9733299008881452\n",
      "Size: 0.19\t | Time: 0.10252618789672852\t | Accuracy: 0.9744111211224096\n",
      "Size: 0.2\t | Time: 0.10878276824951172\t | Accuracy: 0.9754794696872184\n",
      "Size: 0.21000000000000002\t | Time: 0.12396669387817383\t | Accuracy: 0.9768052516411379\n",
      "Size: 0.22\t | Time: 0.1584787368774414\t | Accuracy: 0.9779250868837688\n",
      "Size: 0.23\t | Time: 0.15619564056396484\t | Accuracy: 0.9785429270176342\n",
      "Size: 0.24000000000000002\t | Time: 0.13166141510009766\t | Accuracy: 0.9793924572016991\n",
      "Size: 0.25\t | Time: 0.1512279510498047\t | Accuracy: 0.9803320890719527\n",
      "Size: 0.26\t | Time: 0.13886117935180664\t | Accuracy: 0.9808984425279959\n",
      "Size: 0.27\t | Time: 0.14717745780944824\t | Accuracy: 0.9813103359505728\n",
      "Size: 0.28\t | Time: 0.1500382423400879\t | Accuracy: 0.9817865877204274\n",
      "Size: 0.29000000000000004\t | Time: 0.15877890586853027\t | Accuracy: 0.9824301711932037\n",
      "Size: 0.3\t | Time: 0.17385244369506836\t | Accuracy: 0.9830866263354358\n",
      "Size: 0.31\t | Time: 0.1736605167388916\t | Accuracy: 0.9835371347663792\n",
      "Size: 0.32\t | Time: 0.19289350509643555\t | Accuracy: 0.9842322049169777\n",
      "Size: 0.33\t | Time: 0.23596549034118652\t | Accuracy: 0.9846955850173768\n",
      "Size: 0.34\t | Time: 0.21828722953796387\t | Accuracy: 0.9850559917621315\n",
      "Size: 0.35000000000000003\t | Time: 0.2545754909515381\t | Accuracy: 0.9855708585403526\n",
      "Size: 0.36000000000000004\t | Time: 0.21438360214233398\t | Accuracy: 0.9861758270047625\n",
      "Size: 0.37\t | Time: 0.21854114532470703\t | Accuracy: 0.9865748487578839\n",
      "Size: 0.38\t | Time: 0.23961329460144043\t | Accuracy: 0.9868580254859055\n",
      "Size: 0.39\t | Time: 0.2456798553466797\t | Accuracy: 0.987308533916849\n",
      "Size: 0.4\t | Time: 0.24818038940429688\t | Accuracy: 0.9877847856867036\n",
      "Size: 0.41000000000000003\t | Time: 0.28742361068725586\t | Accuracy: 0.9883382674732912\n",
      "Size: 0.42000000000000004\t | Time: 0.2795107364654541\t | Accuracy: 0.9888531342515124\n",
      "Size: 0.43\t | Time: 0.31095457077026367\t | Accuracy: 0.9891749259879006\n",
      "Size: 0.44\t | Time: 0.29050493240356445\t | Accuracy: 0.9896125627493886\n",
      "Size: 0.45\t | Time: 0.3293125629425049\t | Accuracy: 0.9899086111468658\n",
      "Size: 0.46\t | Time: 0.3612687587738037\t | Accuracy: 0.9902432745527094\n",
      "Size: 0.47000000000000003\t | Time: 0.3446085453033447\t | Accuracy: 0.9905521946196422\n",
      "Size: 0.48000000000000004\t | Time: 0.35329174995422363\t | Accuracy: 0.9908096280087527\n",
      "Size: 0.49\t | Time: 0.3694026470184326\t | Accuracy: 0.9911700347535075\n",
      "Size: 0.5\t | Time: 0.3647575378417969\t | Accuracy: 0.9914274681426181\n",
      "Size: 0.51\t | Time: 0.5038156509399414\t | Accuracy: 0.9917878748873729\n",
      "Size: 0.52\t | Time: 0.4465935230255127\t | Accuracy: 0.9920324366070279\n",
      "Size: 0.53\t | Time: 0.44698452949523926\t | Accuracy: 0.9921611533015832\n",
      "Size: 0.54\t | Time: 0.46846508979797363\t | Accuracy: 0.9923542283434161\n",
      "Size: 0.55\t | Time: 0.44996142387390137\t | Accuracy: 0.9927146350881709\n",
      "Size: 0.56\t | Time: 0.500737190246582\t | Accuracy: 0.9927275067576264\n",
      "Size: 0.5700000000000001\t | Time: 0.6227946281433105\t | Accuracy: 0.9928562234521817\n",
      "Size: 0.5800000000000001\t | Time: 0.4990720748901367\t | Accuracy: 0.9930235551551037\n",
      "Size: 0.59\t | Time: 0.5224792957305908\t | Accuracy: 0.9932552452053032\n",
      "Size: 0.6\t | Time: 0.5747199058532715\t | Accuracy: 0.9933710902304029\n",
      "Size: 0.61\t | Time: 0.59523606300354\t | Accuracy: 0.9936285236195135\n",
      "Size: 0.62\t | Time: 0.5721628665924072\t | Accuracy: 0.993885957008624\n",
      "Size: 0.63\t | Time: 0.6083743572235107\t | Accuracy: 0.9940146737031793\n",
      "Size: 0.64\t | Time: 0.6386513710021973\t | Accuracy: 0.9941176470588236\n",
      "Size: 0.65\t | Time: 0.6495139598846436\t | Accuracy: 0.9942978504312009\n",
      "Size: 0.66\t | Time: 0.7073853015899658\t | Accuracy: 0.9944909254730339\n",
      "Size: 0.67\t | Time: 0.6405336856842041\t | Accuracy: 0.9947354871926889\n",
      "Size: 0.68\t | Time: 0.6768455505371094\t | Accuracy: 0.994786973870511\n",
      "Size: 0.6900000000000001\t | Time: 0.715548038482666\t | Accuracy: 0.9949156905650662\n",
      "Size: 0.7000000000000001\t | Time: 0.6926219463348389\t | Accuracy: 0.9951087656068992\n",
      "Size: 0.7100000000000001\t | Time: 0.7132749557495117\t | Accuracy: 0.9952117389625434\n",
      "Size: 0.72\t | Time: 0.815781831741333\t | Accuracy: 0.9952889689792767\n",
      "Size: 0.73\t | Time: 0.7455074787139893\t | Accuracy: 0.9954305573432874\n",
      "Size: 0.74\t | Time: 0.733375072479248\t | Accuracy: 0.9955978890462093\n",
      "Size: 0.75\t | Time: 0.759772539138794\t | Accuracy: 0.9957008624018535\n",
      "Size: 0.76\t | Time: 0.8292520046234131\t | Accuracy: 0.9957909640880422\n",
      "Size: 0.77\t | Time: 0.7334132194519043\t | Accuracy: 0.9958939374436865\n",
      "Size: 0.78\t | Time: 0.8237390518188477\t | Accuracy: 0.9958939374436865\n",
      "Size: 0.79\t | Time: 0.7758386135101318\t | Accuracy: 0.9960097824687862\n",
      "Size: 0.8\t | Time: 0.7765214443206787\t | Accuracy: 0.9960612691466083\n",
      "Size: 0.81\t | Time: 0.9397244453430176\t | Accuracy: 0.9961771141717081\n",
      "Size: 0.8200000000000001\t | Time: 0.8665626049041748\t | Accuracy: 0.9962929591968078\n",
      "Size: 0.8300000000000001\t | Time: 0.8829748630523682\t | Accuracy: 0.9964345475608186\n",
      "Size: 0.8400000000000001\t | Time: 1.0623369216918945\t | Accuracy: 0.9965632642553739\n",
      "Size: 0.85\t | Time: 0.9455687999725342\t | Accuracy: 0.9965890075942849\n",
      "Size: 0.86\t | Time: 1.009397268295288\t | Accuracy: 0.9965890075942849\n",
      "Size: 0.87\t | Time: 1.0150439739227295\t | Accuracy: 0.9966662376110181\n",
      "Size: 0.88\t | Time: 0.9477236270904541\t | Accuracy: 0.9967563392972069\n",
      "Size: 0.89\t | Time: 1.157824993133545\t | Accuracy: 0.9967949543055734\n",
      "Size: 0.9\t | Time: 1.172886610031128\t | Accuracy: 0.9968721843223066\n",
      "Size: 0.91\t | Time: 1.3218140602111816\t | Accuracy: 0.9970266443557729\n",
      "Size: 0.92\t | Time: 1.1776340007781982\t | Accuracy: 0.9970652593641395\n",
      "Size: 0.93\t | Time: 1.7130231857299805\t | Accuracy: 0.9971682327197837\n",
      "Size: 0.9400000000000001\t | Time: 1.5684638023376465\t | Accuracy: 0.9971939760586949\n",
      "Size: 0.9500000000000001\t | Time: 1.562807559967041\t | Accuracy: 0.9972454627365169\n",
      "Size: 0.9600000000000001\t | Time: 1.569697618484497\t | Accuracy: 0.997271206075428\n",
      "Size: 0.97\t | Time: 1.590721607208252\t | Accuracy: 0.9973484360921612\n",
      "Size: 0.98\t | Time: 1.5634739398956299\t | Accuracy: 0.9973999227699832\n",
      "Size: 0.99\t | Time: 1.6210923194885254\t | Accuracy: 0.9974256661088943\n",
      "Size: 1.0\t | Time: 1.4410984516143799\t | Accuracy: 0.9975028961256275\n"
     ]
    },
    {
     "data": {
      "image/png": "[encoded data removed]",
      "text/plain": [
       "<Figure size 640x480 with 1 Axes>"
      ]
     },
     "metadata": {},
     "output_type": "display_data"
    }
   ],
   "source": [
    "from sklearn import svm\n",
    "\n",
    "lsvcModel = svm.LinearSVC()\n",
    "\n",
    "times = []\n",
    "accuracy = []\n",
    "\n",
    "train_sizes = np.arange(.01, 1.01, .01)\n",
    "\n",
    "for size in train_sizes:\n",
    "    trainers = int(X_train.shape[0] * size)\n",
    "\n",
    "    X_trainer = X_train[:trainers]\n",
    "    y_trainer = y_train[:trainers]\n",
    "\n",
    "    start = time.time()\n",
    "    \n",
    "    lsvcModel.fit(X_trainer, y_trainer)\n",
    "\n",
    "    end = time.time()\n",
    "\n",
    "    accuracy_of_section = lsvcModel.score(X_test, y_test)\n",
    "\n",
    "    times.append(end-start)\n",
    "    accuracy.append(accuracy_of_section)\n",
    "\n",
    "    print(f\"Size: {size}\\t | Time: {end-start}\\t | Accuracy: {accuracy_of_section}\")\n",
    "\n",
    "plt.title(\"LSVC Model\")\n",
    "plt.xlabel(\"Times (seconds)\")\n",
    "plt.ylabel(\"Accuracy\")\n",
    "plt.scatter(times, accuracy)\n",
    "plt.show()"
   ]
  },
  {
   "cell_type": "code",
   "execution_count": null,
   "metadata": {
    "collapsed": false
   },
   "outputs": [],
   "source": [
    "svcModel.score(X_test, y_test)"
   ]
  },
  {
   "cell_type": "code",
   "execution_count": 10,
   "metadata": {
    "collapsed": true
   },
   "outputs": [
    {
     "name": "stdout",
     "output_type": "stream",
     "text": [
      "Size: 0.1\t | Time: 525.7422132492065\t | Accuracy: 0.951692624533402\n",
      "Size: 0.2\t | Time: 594.2886664867401\t | Accuracy: 0.96894066160381\n",
      "Size: 0.30000000000000004\t | Time: 976.8949217796326\t | Accuracy: 0.9780795469172352\n",
      "Size: 0.4\t | Time: 1389.3957748413086\t | Accuracy: 0.9836658514609344\n",
      "Size: 0.5\t | Time: 1785.0248413085938\t | Accuracy: 0.9868837688248165\n",
      "Size: 0.6\t | Time: 2223.807073354721\t | Accuracy: 0.9897541511133994\n",
      "Size: 0.7000000000000001\t | Time: 2632.994078874588\t | Accuracy: 0.9919680782597503\n",
      "Size: 0.8\t | Time: 2994.4295070171356\t | Accuracy: 0.9938988286780795\n",
      "Size: 0.9\t | Time: 3369.0109071731567\t | Accuracy: 0.9945424121508559\n",
      "Size: 1.0\t | Time: 3722.4265229701996\t | Accuracy: 0.9955206590294762\n"
     ]
    },
    {
     "data": {
      "image/png": "[encoded data removed]",
      "text/plain": [
       "<Figure size 640x480 with 1 Axes>"
      ]
     },
     "metadata": {},
     "output_type": "display_data"
    }
   ],
   "source": [
    "from sklearn.ensemble import RandomForestClassifier\n",
    "import time\n",
    "import matplotlib.pyplot as plt\n",
    "\n",
    "m = RandomForestClassifier(n_estimators=100)\n",
    "#m.fit(X_train, y_train)\n",
    "plt.title(\"565\")\n",
    "times = []\n",
    "accuracy = []\n",
    "\n",
    "train_sizes = np.arange(.1, 1.1, .1)\n",
    "\n",
    "for size in train_sizes:\n",
    "    trainers = int(X_train.shape[0] * size)\n",
    "\n",
    "    X_trainer = X_train[:trainers]\n",
    "    y_trainer = y_train[:trainers]\n",
    "\n",
    "    start = time.time()\n",
    "\n",
    "    m.fit(X_trainer, y_trainer)\n",
    "\n",
    "    end = time.time()\n",
    "\n",
    "    y_predict = m.predict(X_test)\n",
    "    accuracy_of_section = accuracy_score(y_test, y_predict)\n",
    "\n",
    "    times.append(end-start)\n",
    "    accuracy.append(accuracy_of_section)\n",
    "\n",
    "    print(f\"Size: {size}\\t | Time: {end-start}\\t | Accuracy: {accuracy_of_section}\")\n",
    "\n",
    "plt.title(\"Random Forest Classifier\")\n",
    "plt.xlabel(\"Times (seconds)\")\n",
    "plt.ylabel(\"Accuracy\")\n",
    "plt.scatter(times, accuracy)\n",
    "plt.show()\n",
    "\n"
   ]
  },
  {
   "cell_type": "code",
   "execution_count": null,
   "metadata": {
    "collapsed": true
   },
   "outputs": [],
   "source": []
  },
  {
   "cell_type": "markdown",
   "metadata": {},
   "source": [
    "# Further experiment"
   ]
  },
  {
   "cell_type": "code",
   "execution_count": 25,
   "metadata": {
    "collapsed": false
   },
   "outputs": [],
   "source": [
    "index = int(0.3 * len(data))"
   ]
  },
  {
   "cell_type": "code",
   "execution_count": 30,
   "metadata": {
    "collapsed": false
   },
   "outputs": [],
   "source": [
    "from sklearn.utils import shuffle\n",
    "\n",
    "data = pd.read_csv(\"/workspaces/Malicious-URL-Detection-using-Machine-Learning/data/dataNN.csv\",on_bad_lines='skip')\n",
    "\n",
    "data = shuffle(data)\n",
    "url_train = data['url'][index:].values\n",
    "label_train = data['label'][index:].values\n",
    "url_test = data['url'][:index].values\n",
    "label_test = data['label'][:index].values"
   ]
  },
  {
   "cell_type": "code",
   "execution_count": 33,
   "metadata": {
    "collapsed": false
   },
   "outputs": [
    {
     "name": "stdout",
     "output_type": "stream",
     "text": [
      "Size: 0.1\t | Time: 0.8148057460784912\t | Accuracy: 0.9560643245748022\n",
      "Size: 0.2\t | Time: 1.3850524425506592\t | Accuracy: 0.963135222338545\n",
      "Size: 0.30000000000000004\t | Time: 2.1412317752838135\t | Accuracy: 0.9681466353167316\n",
      "Size: 0.4\t | Time: 2.2831943035125732\t | Accuracy: 0.9698113855183895\n",
      "Size: 0.5\t | Time: 3.698434591293335\t | Accuracy: 0.9719995881030429\n",
      "Size: 0.6\t | Time: 3.720885753631592\t | Accuracy: 0.9735871076252424\n",
      "Size: 0.7000000000000001\t | Time: 5.491727590560913\t | Accuracy: 0.9742049530609093\n",
      "Size: 0.8\t | Time: 4.181300640106201\t | Accuracy: 0.9758525408893541\n",
      "Size: 0.9\t | Time: 6.419677495956421\t | Accuracy: 0.976470386325021\n",
      "Size: 1.0\t | Time: 7.21045446395874\t | Accuracy: 0.9778777009284844\n"
     ]
    },
    {
     "data": {
      "image/png": "[encoded data removed]",
      "text/plain": [
       "<Figure size 640x480 with 1 Axes>"
      ]
     },
     "metadata": {},
     "output_type": "display_data"
    }
   ],
   "source": [
    "from sklearn.pipeline import Pipeline\n",
    "from sklearn.preprocessing import FunctionTransformer\n",
    "import time\n",
    "import matplotlib.pyplot as plt\n",
    "\n",
    "\n",
    "\n",
    "pipeline = Pipeline([\n",
    "        (\"vectorizer\", TfidfVectorizer(tokenizer=None)),\n",
    "        (\"classifier\", LogisticRegression())])\n",
    "\n",
    "times = []\n",
    "accuracy = []\n",
    "\n",
    "train_sizes = np.arange(.1, 1.1, .1)\n",
    "\n",
    "for size in train_sizes:\n",
    "    trainers = int(url_train.shape[0] * size)\n",
    "\n",
    "    X_trainer = url_train[:trainers]\n",
    "    y_trainer = label_train[:trainers]\n",
    "\n",
    "    start = time.time()\n",
    "\n",
    "    pipeline.fit(X_trainer, y_trainer)\n",
    "\n",
    "    end = time.time()\n",
    "\n",
    "    accuracy_of_section = pipeline.score(url_test, label_test)\n",
    "\n",
    "    times.append(end-start)\n",
    "    accuracy.append(accuracy_of_section)\n",
    "\n",
    "    print(f\"Size: {size}\\t | Time: {end-start}\\t | Accuracy: {accuracy_of_section}\")\n",
    "\n",
    "\n",
    "\n",
    "plt.title(\"Pipeline\")\n",
    "plt.xlabel(\"Time (seconds)\")\n",
    "plt.ylabel(\"Accuracy\")\n",
    "plt.scatter(times, accuracy)\n",
    "plt.show()"
   ]
  },
  {
   "cell_type": "code",
   "execution_count": 16,
   "metadata": {
    "collapsed": false
   },
   "outputs": [
    {
     "data": {
      "text/plain": [
       "0.97097842689687131"
      ]
     },
     "execution_count": 16,
     "metadata": {},
     "output_type": "execute_result"
    }
   ],
   "source": [
    "pipeline.score(url_test, label_test)\n",
    "accuracy_score(label_test, y_predict)"
   ]
  },
  {
   "cell_type": "markdown",
   "metadata": {
    "collapsed": false
   },
   "source": [
    "I have stopped working on this. You may want to use advanced methods to achieve higher accuracy(i.e LSTM). Also, a very critical part here is the feature engineering. Simlpy taking input URL as an input is not a good idea. We may find other features,which are more useful than only URL string, from host info, ip, or page content."
   ]
  },
  {
   "cell_type": "code",
   "execution_count": null,
   "metadata": {
    "collapsed": true
   },
   "outputs": [],
   "source": []
  }
 ],
 "metadata": {
  "kernelspec": {
   "display_name": "Python 3",
   "language": "python",
   "name": "python3"
  },
  "language_info": {
   "codemirror_mode": {
    "name": "ipython",
    "version": 3
   },
   "file_extension": ".py",
   "mimetype": "text/x-python",
   "name": "python",
   "nbconvert_exporter": "python",
   "pygments_lexer": "ipython3",
   "version": "3.12.1"
  }
 },
 "nbformat": 4,
 "nbformat_minor": 2
}
